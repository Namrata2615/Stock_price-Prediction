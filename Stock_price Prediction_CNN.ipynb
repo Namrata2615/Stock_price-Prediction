{
 "cells": [
  {
   "cell_type": "code",
   "execution_count": 1,
   "metadata": {},
   "outputs": [],
   "source": [
    "import pandas as pd"
   ]
  },
  {
   "cell_type": "markdown",
   "metadata": {},
   "source": [
    "# Reading data in the form of csv file"
   ]
  },
  {
   "cell_type": "code",
   "execution_count": 2,
   "metadata": {},
   "outputs": [],
   "source": [
    "df=pd.read_csv('AAPL.csv')"
   ]
  },
  {
   "cell_type": "markdown",
   "metadata": {},
   "source": [
    "# Displaying top 5 rows of data frame"
   ]
  },
  {
   "cell_type": "code",
   "execution_count": 3,
   "metadata": {},
   "outputs": [
    {
     "data": {
      "text/html": [
       "<div>\n",
       "<style scoped>\n",
       "    .dataframe tbody tr th:only-of-type {\n",
       "        vertical-align: middle;\n",
       "    }\n",
       "\n",
       "    .dataframe tbody tr th {\n",
       "        vertical-align: top;\n",
       "    }\n",
       "\n",
       "    .dataframe thead th {\n",
       "        text-align: right;\n",
       "    }\n",
       "</style>\n",
       "<table border=\"1\" class=\"dataframe\">\n",
       "  <thead>\n",
       "    <tr style=\"text-align: right;\">\n",
       "      <th></th>\n",
       "      <th>Unnamed: 0</th>\n",
       "      <th>Unnamed: 0.1</th>\n",
       "      <th>symbol</th>\n",
       "      <th>date</th>\n",
       "      <th>close</th>\n",
       "      <th>high</th>\n",
       "      <th>low</th>\n",
       "      <th>open</th>\n",
       "      <th>volume</th>\n",
       "      <th>adjClose</th>\n",
       "      <th>adjHigh</th>\n",
       "      <th>adjLow</th>\n",
       "      <th>adjOpen</th>\n",
       "      <th>adjVolume</th>\n",
       "      <th>divCash</th>\n",
       "      <th>splitFactor</th>\n",
       "    </tr>\n",
       "  </thead>\n",
       "  <tbody>\n",
       "    <tr>\n",
       "      <th>0</th>\n",
       "      <td>0</td>\n",
       "      <td>0</td>\n",
       "      <td>AAPL</td>\n",
       "      <td>2015-05-27 00:00:00+00:00</td>\n",
       "      <td>132.045</td>\n",
       "      <td>132.260</td>\n",
       "      <td>130.05</td>\n",
       "      <td>130.34</td>\n",
       "      <td>45833246</td>\n",
       "      <td>121.682558</td>\n",
       "      <td>121.880685</td>\n",
       "      <td>119.844118</td>\n",
       "      <td>120.111360</td>\n",
       "      <td>45833246</td>\n",
       "      <td>0.0</td>\n",
       "      <td>1.0</td>\n",
       "    </tr>\n",
       "    <tr>\n",
       "      <th>1</th>\n",
       "      <td>1</td>\n",
       "      <td>1</td>\n",
       "      <td>AAPL</td>\n",
       "      <td>2015-05-28 00:00:00+00:00</td>\n",
       "      <td>131.780</td>\n",
       "      <td>131.950</td>\n",
       "      <td>131.10</td>\n",
       "      <td>131.86</td>\n",
       "      <td>30733309</td>\n",
       "      <td>121.438354</td>\n",
       "      <td>121.595013</td>\n",
       "      <td>120.811718</td>\n",
       "      <td>121.512076</td>\n",
       "      <td>30733309</td>\n",
       "      <td>0.0</td>\n",
       "      <td>1.0</td>\n",
       "    </tr>\n",
       "    <tr>\n",
       "      <th>2</th>\n",
       "      <td>2</td>\n",
       "      <td>2</td>\n",
       "      <td>AAPL</td>\n",
       "      <td>2015-05-29 00:00:00+00:00</td>\n",
       "      <td>130.280</td>\n",
       "      <td>131.450</td>\n",
       "      <td>129.90</td>\n",
       "      <td>131.23</td>\n",
       "      <td>50884452</td>\n",
       "      <td>120.056069</td>\n",
       "      <td>121.134251</td>\n",
       "      <td>119.705890</td>\n",
       "      <td>120.931516</td>\n",
       "      <td>50884452</td>\n",
       "      <td>0.0</td>\n",
       "      <td>1.0</td>\n",
       "    </tr>\n",
       "    <tr>\n",
       "      <th>3</th>\n",
       "      <td>3</td>\n",
       "      <td>3</td>\n",
       "      <td>AAPL</td>\n",
       "      <td>2015-06-01 00:00:00+00:00</td>\n",
       "      <td>130.535</td>\n",
       "      <td>131.390</td>\n",
       "      <td>130.05</td>\n",
       "      <td>131.20</td>\n",
       "      <td>32112797</td>\n",
       "      <td>120.291057</td>\n",
       "      <td>121.078960</td>\n",
       "      <td>119.844118</td>\n",
       "      <td>120.903870</td>\n",
       "      <td>32112797</td>\n",
       "      <td>0.0</td>\n",
       "      <td>1.0</td>\n",
       "    </tr>\n",
       "    <tr>\n",
       "      <th>4</th>\n",
       "      <td>4</td>\n",
       "      <td>4</td>\n",
       "      <td>AAPL</td>\n",
       "      <td>2015-06-02 00:00:00+00:00</td>\n",
       "      <td>129.960</td>\n",
       "      <td>130.655</td>\n",
       "      <td>129.32</td>\n",
       "      <td>129.86</td>\n",
       "      <td>33667627</td>\n",
       "      <td>119.761181</td>\n",
       "      <td>120.401640</td>\n",
       "      <td>119.171406</td>\n",
       "      <td>119.669029</td>\n",
       "      <td>33667627</td>\n",
       "      <td>0.0</td>\n",
       "      <td>1.0</td>\n",
       "    </tr>\n",
       "  </tbody>\n",
       "</table>\n",
       "</div>"
      ],
      "text/plain": [
       "   Unnamed: 0  Unnamed: 0.1 symbol                       date    close  \\\n",
       "0           0             0   AAPL  2015-05-27 00:00:00+00:00  132.045   \n",
       "1           1             1   AAPL  2015-05-28 00:00:00+00:00  131.780   \n",
       "2           2             2   AAPL  2015-05-29 00:00:00+00:00  130.280   \n",
       "3           3             3   AAPL  2015-06-01 00:00:00+00:00  130.535   \n",
       "4           4             4   AAPL  2015-06-02 00:00:00+00:00  129.960   \n",
       "\n",
       "      high     low    open    volume    adjClose     adjHigh      adjLow  \\\n",
       "0  132.260  130.05  130.34  45833246  121.682558  121.880685  119.844118   \n",
       "1  131.950  131.10  131.86  30733309  121.438354  121.595013  120.811718   \n",
       "2  131.450  129.90  131.23  50884452  120.056069  121.134251  119.705890   \n",
       "3  131.390  130.05  131.20  32112797  120.291057  121.078960  119.844118   \n",
       "4  130.655  129.32  129.86  33667627  119.761181  120.401640  119.171406   \n",
       "\n",
       "      adjOpen  adjVolume  divCash  splitFactor  \n",
       "0  120.111360   45833246      0.0          1.0  \n",
       "1  121.512076   30733309      0.0          1.0  \n",
       "2  120.931516   50884452      0.0          1.0  \n",
       "3  120.903870   32112797      0.0          1.0  \n",
       "4  119.669029   33667627      0.0          1.0  "
      ]
     },
     "execution_count": 3,
     "metadata": {},
     "output_type": "execute_result"
    }
   ],
   "source": [
    "df.head()"
   ]
  },
  {
   "cell_type": "markdown",
   "metadata": {},
   "source": [
    "# Displaying last 5 rows of data frame"
   ]
  },
  {
   "cell_type": "code",
   "execution_count": 4,
   "metadata": {},
   "outputs": [
    {
     "data": {
      "text/html": [
       "<div>\n",
       "<style scoped>\n",
       "    .dataframe tbody tr th:only-of-type {\n",
       "        vertical-align: middle;\n",
       "    }\n",
       "\n",
       "    .dataframe tbody tr th {\n",
       "        vertical-align: top;\n",
       "    }\n",
       "\n",
       "    .dataframe thead th {\n",
       "        text-align: right;\n",
       "    }\n",
       "</style>\n",
       "<table border=\"1\" class=\"dataframe\">\n",
       "  <thead>\n",
       "    <tr style=\"text-align: right;\">\n",
       "      <th></th>\n",
       "      <th>Unnamed: 0</th>\n",
       "      <th>Unnamed: 0.1</th>\n",
       "      <th>symbol</th>\n",
       "      <th>date</th>\n",
       "      <th>close</th>\n",
       "      <th>high</th>\n",
       "      <th>low</th>\n",
       "      <th>open</th>\n",
       "      <th>volume</th>\n",
       "      <th>adjClose</th>\n",
       "      <th>adjHigh</th>\n",
       "      <th>adjLow</th>\n",
       "      <th>adjOpen</th>\n",
       "      <th>adjVolume</th>\n",
       "      <th>divCash</th>\n",
       "      <th>splitFactor</th>\n",
       "    </tr>\n",
       "  </thead>\n",
       "  <tbody>\n",
       "    <tr>\n",
       "      <th>1253</th>\n",
       "      <td>1253</td>\n",
       "      <td>1253</td>\n",
       "      <td>AAPL</td>\n",
       "      <td>2020-05-18 00:00:00+00:00</td>\n",
       "      <td>314.96</td>\n",
       "      <td>316.50</td>\n",
       "      <td>310.3241</td>\n",
       "      <td>313.17</td>\n",
       "      <td>33843125</td>\n",
       "      <td>314.96</td>\n",
       "      <td>316.50</td>\n",
       "      <td>310.3241</td>\n",
       "      <td>313.17</td>\n",
       "      <td>33843125</td>\n",
       "      <td>0.0</td>\n",
       "      <td>1.0</td>\n",
       "    </tr>\n",
       "    <tr>\n",
       "      <th>1254</th>\n",
       "      <td>1254</td>\n",
       "      <td>1254</td>\n",
       "      <td>AAPL</td>\n",
       "      <td>2020-05-19 00:00:00+00:00</td>\n",
       "      <td>313.14</td>\n",
       "      <td>318.52</td>\n",
       "      <td>313.0100</td>\n",
       "      <td>315.03</td>\n",
       "      <td>25432385</td>\n",
       "      <td>313.14</td>\n",
       "      <td>318.52</td>\n",
       "      <td>313.0100</td>\n",
       "      <td>315.03</td>\n",
       "      <td>25432385</td>\n",
       "      <td>0.0</td>\n",
       "      <td>1.0</td>\n",
       "    </tr>\n",
       "    <tr>\n",
       "      <th>1255</th>\n",
       "      <td>1255</td>\n",
       "      <td>1255</td>\n",
       "      <td>AAPL</td>\n",
       "      <td>2020-05-20 00:00:00+00:00</td>\n",
       "      <td>319.23</td>\n",
       "      <td>319.52</td>\n",
       "      <td>316.2000</td>\n",
       "      <td>316.68</td>\n",
       "      <td>27876215</td>\n",
       "      <td>319.23</td>\n",
       "      <td>319.52</td>\n",
       "      <td>316.2000</td>\n",
       "      <td>316.68</td>\n",
       "      <td>27876215</td>\n",
       "      <td>0.0</td>\n",
       "      <td>1.0</td>\n",
       "    </tr>\n",
       "    <tr>\n",
       "      <th>1256</th>\n",
       "      <td>1256</td>\n",
       "      <td>1256</td>\n",
       "      <td>AAPL</td>\n",
       "      <td>2020-05-21 00:00:00+00:00</td>\n",
       "      <td>316.85</td>\n",
       "      <td>320.89</td>\n",
       "      <td>315.8700</td>\n",
       "      <td>318.66</td>\n",
       "      <td>25672211</td>\n",
       "      <td>316.85</td>\n",
       "      <td>320.89</td>\n",
       "      <td>315.8700</td>\n",
       "      <td>318.66</td>\n",
       "      <td>25672211</td>\n",
       "      <td>0.0</td>\n",
       "      <td>1.0</td>\n",
       "    </tr>\n",
       "    <tr>\n",
       "      <th>1257</th>\n",
       "      <td>1257</td>\n",
       "      <td>1257</td>\n",
       "      <td>AAPL</td>\n",
       "      <td>2020-05-22 00:00:00+00:00</td>\n",
       "      <td>318.89</td>\n",
       "      <td>319.23</td>\n",
       "      <td>315.3500</td>\n",
       "      <td>315.77</td>\n",
       "      <td>20450754</td>\n",
       "      <td>318.89</td>\n",
       "      <td>319.23</td>\n",
       "      <td>315.3500</td>\n",
       "      <td>315.77</td>\n",
       "      <td>20450754</td>\n",
       "      <td>0.0</td>\n",
       "      <td>1.0</td>\n",
       "    </tr>\n",
       "  </tbody>\n",
       "</table>\n",
       "</div>"
      ],
      "text/plain": [
       "      Unnamed: 0  Unnamed: 0.1 symbol                       date   close  \\\n",
       "1253        1253          1253   AAPL  2020-05-18 00:00:00+00:00  314.96   \n",
       "1254        1254          1254   AAPL  2020-05-19 00:00:00+00:00  313.14   \n",
       "1255        1255          1255   AAPL  2020-05-20 00:00:00+00:00  319.23   \n",
       "1256        1256          1256   AAPL  2020-05-21 00:00:00+00:00  316.85   \n",
       "1257        1257          1257   AAPL  2020-05-22 00:00:00+00:00  318.89   \n",
       "\n",
       "        high       low    open    volume  adjClose  adjHigh    adjLow  \\\n",
       "1253  316.50  310.3241  313.17  33843125    314.96   316.50  310.3241   \n",
       "1254  318.52  313.0100  315.03  25432385    313.14   318.52  313.0100   \n",
       "1255  319.52  316.2000  316.68  27876215    319.23   319.52  316.2000   \n",
       "1256  320.89  315.8700  318.66  25672211    316.85   320.89  315.8700   \n",
       "1257  319.23  315.3500  315.77  20450754    318.89   319.23  315.3500   \n",
       "\n",
       "      adjOpen  adjVolume  divCash  splitFactor  \n",
       "1253   313.17   33843125      0.0          1.0  \n",
       "1254   315.03   25432385      0.0          1.0  \n",
       "1255   316.68   27876215      0.0          1.0  \n",
       "1256   318.66   25672211      0.0          1.0  \n",
       "1257   315.77   20450754      0.0          1.0  "
      ]
     },
     "execution_count": 4,
     "metadata": {},
     "output_type": "execute_result"
    }
   ],
   "source": [
    "df.tail()"
   ]
  },
  {
   "cell_type": "markdown",
   "metadata": {},
   "source": [
    "# Displaying the data of close feature of data frame\n"
   ]
  },
  {
   "cell_type": "code",
   "execution_count": 5,
   "metadata": {},
   "outputs": [],
   "source": [
    "df1=df.reset_index()['close']"
   ]
  },
  {
   "cell_type": "code",
   "execution_count": 6,
   "metadata": {},
   "outputs": [
    {
     "data": {
      "text/plain": [
       "0       132.045\n",
       "1       131.780\n",
       "2       130.280\n",
       "3       130.535\n",
       "4       129.960\n",
       "         ...   \n",
       "1253    314.960\n",
       "1254    313.140\n",
       "1255    319.230\n",
       "1256    316.850\n",
       "1257    318.890\n",
       "Name: close, Length: 1258, dtype: float64"
      ]
     },
     "execution_count": 6,
     "metadata": {},
     "output_type": "execute_result"
    }
   ],
   "source": [
    "df1"
   ]
  },
  {
   "cell_type": "markdown",
   "metadata": {},
   "source": [
    "# Graph representation of data of close feature of data frame"
   ]
  },
  {
   "cell_type": "code",
   "execution_count": 7,
   "metadata": {},
   "outputs": [
    {
     "data": {
      "text/plain": [
       "[<matplotlib.lines.Line2D at 0x25b57f9a400>]"
      ]
     },
     "execution_count": 7,
     "metadata": {},
     "output_type": "execute_result"
    },
    {
     "data": {
      "image/png": "[encoded data removed]",
      "text/plain": [
       "<Figure size 432x288 with 1 Axes>"
      ]
     },
     "metadata": {
      "needs_background": "light"
     },
     "output_type": "display_data"
    }
   ],
   "source": [
    "import matplotlib.pyplot as plt\n",
    "plt.plot(df1)"
   ]
  },
  {
   "cell_type": "code",
   "execution_count": 8,
   "metadata": {},
   "outputs": [],
   "source": [
    "import numpy as np"
   ]
  },
  {
   "cell_type": "markdown",
   "metadata": {},
   "source": [
    "# STEP 1-Data Preprocessing\n",
    "# STEP 2-Applying minmax scaler\n",
    "# STEP 3-Transforming close feature values between 0 to 1"
   ]
  },
  {
   "cell_type": "code",
   "execution_count": 10,
   "metadata": {},
   "outputs": [],
   "source": [
    "from sklearn.preprocessing import MinMaxScaler\n",
    "scaler=MinMaxScaler(feature_range=(0,1))\n",
    "df1=scaler.fit_transform(np.array(df1).reshape(-1,1))"
   ]
  },
  {
   "cell_type": "code",
   "execution_count": 11,
   "metadata": {},
   "outputs": [
    {
     "name": "stdout",
     "output_type": "stream",
     "text": [
      "[[0.17607447]\n",
      " [0.17495567]\n",
      " [0.16862282]\n",
      " ...\n",
      " [0.96635143]\n",
      " [0.9563033 ]\n",
      " [0.96491598]]\n"
     ]
    }
   ],
   "source": [
    "print(df1)"
   ]
  },
  {
   "cell_type": "markdown",
   "metadata": {},
   "source": [
    "# Splitting dataset into train and test split"
   ]
  },
  {
   "cell_type": "code",
   "execution_count": 12,
   "metadata": {},
   "outputs": [],
   "source": [
    "training_size=int(len(df1)*0.65)\n",
    "test_size=len(df1)-training_size\n",
    "train_data,test_data=df1[0:training_size,:],df1[training_size:len(df1),:1]"
   ]
  },
  {
   "cell_type": "markdown",
   "metadata": {},
   "source": [
    "# Displaying size of train and test dataset"
   ]
  },
  {
   "cell_type": "code",
   "execution_count": 13,
   "metadata": {},
   "outputs": [
    {
     "name": "stdout",
     "output_type": "stream",
     "text": [
      "817 441\n",
      "(817, 1) (441, 1)\n"
     ]
    }
   ],
   "source": [
    "print(training_size,test_size)\n",
    "print(train_data.shape , test_data.shape)\n"
   ]
  },
  {
   "cell_type": "code",
   "execution_count": 14,
   "metadata": {},
   "outputs": [
    {
     "data": {
      "text/plain": [
       "array([[0.17607447],\n",
       "       [0.17495567],\n",
       "       [0.16862282],\n",
       "       [0.1696994 ],\n",
       "       [0.16727181],\n",
       "       [0.16794731],\n",
       "       [0.16473866],\n",
       "       [0.16174111],\n",
       "       [0.1581525 ],\n",
       "       [0.15654817]])"
      ]
     },
     "execution_count": 14,
     "metadata": {},
     "output_type": "execute_result"
    }
   ],
   "source": [
    "train_data[:10]"
   ]
  },
  {
   "cell_type": "markdown",
   "metadata": {},
   "source": [
    "# Converting an array of values into a dataset matrix"
   ]
  },
  {
   "cell_type": "code",
   "execution_count": 15,
   "metadata": {},
   "outputs": [],
   "source": [
    "import numpy\n",
    "def create_dataset(dataset, time_step=1):\n",
    "    dataX, dataY = [], []\n",
    "    for i in range(len(dataset)-time_step-1):\n",
    "        a = dataset[i:(i+time_step), 0]   \n",
    "        dataX.append(a)\n",
    "        dataY.append(dataset[i + time_step, 0])\n",
    "    return numpy.array(dataX), numpy.array(dataY)"
   ]
  },
  {
   "cell_type": "markdown",
   "metadata": {},
   "source": [
    "# Setting timesteps value as 100"
   ]
  },
  {
   "cell_type": "code",
   "execution_count": 32,
   "metadata": {},
   "outputs": [],
   "source": [
    "time_step = 100\n",
    "X_train, y_train = create_dataset(train_data, time_step)\n",
    "X_test, ytest = create_dataset(test_data, time_step)"
   ]
  },
  {
   "cell_type": "code",
   "execution_count": 33,
   "metadata": {},
   "outputs": [
    {
     "name": "stdout",
     "output_type": "stream",
     "text": [
      "(716, 100)\n",
      "(716,)\n"
     ]
    }
   ],
   "source": [
    "print(X_train.shape)\n",
    "print(y_train.shape)"
   ]
  },
  {
   "cell_type": "code",
   "execution_count": 34,
   "metadata": {},
   "outputs": [
    {
     "name": "stdout",
     "output_type": "stream",
     "text": [
      "(340, 100)\n",
      "(340,)\n"
     ]
    }
   ],
   "source": [
    "print(X_test.shape)\n",
    "print(ytest.shape)"
   ]
  },
  {
   "cell_type": "code",
   "execution_count": 35,
   "metadata": {},
   "outputs": [
    {
     "data": {
      "text/plain": [
       "array([[0.17607447, 0.17495567, 0.16862282, ..., 0.09055982, 0.08388922,\n",
       "        0.09085536],\n",
       "       [0.17495567, 0.16862282, 0.1696994 , ..., 0.08388922, 0.09085536,\n",
       "        0.0873934 ],\n",
       "       [0.16862282, 0.1696994 , 0.16727181, ..., 0.09085536, 0.0873934 ,\n",
       "        0.09030651],\n",
       "       ...,\n",
       "       [0.34801148, 0.32930845, 0.32145571, ..., 0.50042219, 0.50413747,\n",
       "        0.5062062 ],\n",
       "       [0.32930845, 0.32145571, 0.32694419, ..., 0.50413747, 0.5062062 ,\n",
       "        0.51920966],\n",
       "       [0.32145571, 0.32694419, 0.32230009, ..., 0.5062062 , 0.51920966,\n",
       "        0.53719497]])"
      ]
     },
     "execution_count": 35,
     "metadata": {},
     "output_type": "execute_result"
    }
   ],
   "source": [
    "X_train"
   ]
  },
  {
   "cell_type": "markdown",
   "metadata": {},
   "source": [
    "# Reshape input to be 3-D[samples, time steps, features] which is required for LSTM"
   ]
  },
  {
   "cell_type": "code",
   "execution_count": 36,
   "metadata": {},
   "outputs": [],
   "source": [
    "X_train =X_train.reshape(X_train.shape[0],X_train.shape[1] , 1 , 1)\n",
    "X_test = X_test.reshape(X_test.shape[0],X_test.shape[1] , 1 , 1)"
   ]
  },
  {
   "cell_type": "code",
   "execution_count": 37,
   "metadata": {},
   "outputs": [
    {
     "name": "stdout",
     "output_type": "stream",
     "text": [
      "(716, 100, 1, 1)\n",
      "(340, 100, 1, 1)\n"
     ]
    }
   ],
   "source": [
    "print(X_train.shape)\n",
    "print(X_test.shape)"
   ]
  },
  {
   "cell_type": "code",
   "execution_count": 38,
   "metadata": {},
   "outputs": [],
   "source": [
    "from tensorflow.keras.layers import Input, Dense, Conv2D, MaxPool2D, Flatten, Dropout\n",
    "from tensorflow.keras.models import Model, Sequential\n",
    "import tensorflow as tf"
   ]
  },
  {
   "cell_type": "code",
   "execution_count": 42,
   "metadata": {},
   "outputs": [],
   "source": [
    "#input_shape = (28,28,1)\n",
    "input_shape = (X_train.shape[1],1,1)\n",
    "input_layer = Input(input_shape)\n",
    "\n",
    "layer11 = Conv2D(16,(1,1),activation = tf.nn.relu, input_shape = input_shape)(input_layer)  #op 28*28\n",
    "layer12 = Conv2D(16,(7,1),activation = tf.nn.relu, input_shape = input_shape)(input_layer)  #op 26*26\n",
    "layer13 = Conv2D(16,(14,1),activation = tf.nn.relu, input_shape = input_shape)(input_layer)  #op 24*24\n",
    "layer14 = Conv2D(16,(21,1),activation = tf.nn.relu, input_shape = input_shape)(input_layer)  #op 22*22\n",
    "\n",
    "layer21 = MaxPool2D((2,1))(layer11)  #14\n",
    "layer22 = MaxPool2D((2,1))(layer12)  #13\n",
    "layer23 = MaxPool2D((2,1))(layer13)  #12\n",
    "layer24 = MaxPool2D((2,1))(layer14)  #11\n",
    "\n",
    "layer31 = Conv2D(32,(5,1),activation = tf.nn.relu)(layer21) #10\n",
    "layer32 = Conv2D(32,(3,1),activation = tf.nn.relu)(layer22) #11\n",
    "layer33 = Conv2D(32,(3,1),activation = tf.nn.relu)(layer23) #10\n",
    "layer34 = Conv2D(32,(1,1),activation = tf.nn.relu)(layer24) #11\n",
    "\n",
    "layer41 = MaxPool2D((2,1))(layer31)\n",
    "layer42 = MaxPool2D((2,1))(layer32)\n",
    "layer43 = MaxPool2D((2,1))(layer33)\n",
    "layer44 = MaxPool2D((2,1))(layer34)\n",
    "\n",
    "flatten51 = Flatten()(layer41)\n",
    "flatten52 = Flatten()(layer42)\n",
    "flatten53 = Flatten()(layer43)\n",
    "flatten54 = Flatten()(layer44)\n",
    "\n",
    "layer61 = Dense(14,activation = tf.nn.relu)(flatten51)\n",
    "layer62 = Dense(14,activation = tf.nn.relu)(flatten52)\n",
    "layer63 = Dense(14,activation = tf.nn.relu)(flatten53)\n",
    "layer64 = Dense(14,activation = tf.nn.relu)(flatten54)\n",
    "\n",
    "layer71 = tf.keras.layers.concatenate([layer61 , layer61 , layer63 , layer64],axis=1)\n",
    "\n",
    "output_layer_internal = Dense(10, activation = tf.nn.relu)(layer71)\n",
    "output_layer =          Dense(1)(output_layer_internal)\n",
    "\n",
    "model = Model(input_layer,output_layer)\n",
    "\n",
    "model.compile(loss=tf.keras.losses.mean_squared_error ,optimizer='Adam', metrics = ['mse'])"
   ]
  },
  {
   "cell_type": "markdown",
   "metadata": {},
   "source": [
    "# Displaying the model summary"
   ]
  },
  {
   "cell_type": "code",
   "execution_count": 44,
   "metadata": {},
   "outputs": [
    {
     "name": "stdout",
     "output_type": "stream",
     "text": [
      "Model: \"functional_3\"\n",
      "__________________________________________________________________________________________________\n",
      "Layer (type)                    Output Shape         Param #     Connected to                     \n",
      "==================================================================================================\n",
      "input_6 (InputLayer)            [(None, 100, 1, 1)]  0                                            \n",
      "__________________________________________________________________________________________________\n",
      "conv2d_19 (Conv2D)              (None, 100, 1, 16)   32          input_6[0][0]                    \n",
      "__________________________________________________________________________________________________\n",
      "conv2d_21 (Conv2D)              (None, 87, 1, 16)    240         input_6[0][0]                    \n",
      "__________________________________________________________________________________________________\n",
      "conv2d_22 (Conv2D)              (None, 80, 1, 16)    352         input_6[0][0]                    \n",
      "__________________________________________________________________________________________________\n",
      "max_pooling2d_13 (MaxPooling2D) (None, 50, 1, 16)    0           conv2d_19[0][0]                  \n",
      "__________________________________________________________________________________________________\n",
      "max_pooling2d_15 (MaxPooling2D) (None, 43, 1, 16)    0           conv2d_21[0][0]                  \n",
      "__________________________________________________________________________________________________\n",
      "max_pooling2d_16 (MaxPooling2D) (None, 40, 1, 16)    0           conv2d_22[0][0]                  \n",
      "__________________________________________________________________________________________________\n",
      "conv2d_23 (Conv2D)              (None, 46, 1, 32)    2592        max_pooling2d_13[0][0]           \n",
      "__________________________________________________________________________________________________\n",
      "conv2d_25 (Conv2D)              (None, 41, 1, 32)    1568        max_pooling2d_15[0][0]           \n",
      "__________________________________________________________________________________________________\n",
      "conv2d_26 (Conv2D)              (None, 40, 1, 32)    544         max_pooling2d_16[0][0]           \n",
      "__________________________________________________________________________________________________\n",
      "max_pooling2d_17 (MaxPooling2D) (None, 23, 1, 32)    0           conv2d_23[0][0]                  \n",
      "__________________________________________________________________________________________________\n",
      "max_pooling2d_19 (MaxPooling2D) (None, 20, 1, 32)    0           conv2d_25[0][0]                  \n",
      "__________________________________________________________________________________________________\n",
      "max_pooling2d_20 (MaxPooling2D) (None, 20, 1, 32)    0           conv2d_26[0][0]                  \n",
      "__________________________________________________________________________________________________\n",
      "flatten_4 (Flatten)             (None, 736)          0           max_pooling2d_17[0][0]           \n",
      "__________________________________________________________________________________________________\n",
      "flatten_6 (Flatten)             (None, 640)          0           max_pooling2d_19[0][0]           \n",
      "__________________________________________________________________________________________________\n",
      "flatten_7 (Flatten)             (None, 640)          0           max_pooling2d_20[0][0]           \n",
      "__________________________________________________________________________________________________\n",
      "dense_6 (Dense)                 (None, 14)           10318       flatten_4[0][0]                  \n",
      "__________________________________________________________________________________________________\n",
      "dense_8 (Dense)                 (None, 14)           8974        flatten_6[0][0]                  \n",
      "__________________________________________________________________________________________________\n",
      "dense_9 (Dense)                 (None, 14)           8974        flatten_7[0][0]                  \n",
      "__________________________________________________________________________________________________\n",
      "concatenate_1 (Concatenate)     (None, 56)           0           dense_6[0][0]                    \n",
      "                                                                 dense_6[0][0]                    \n",
      "                                                                 dense_8[0][0]                    \n",
      "                                                                 dense_9[0][0]                    \n",
      "__________________________________________________________________________________________________\n",
      "dense_10 (Dense)                (None, 10)           570         concatenate_1[0][0]              \n",
      "__________________________________________________________________________________________________\n",
      "dense_11 (Dense)                (None, 1)            11          dense_10[0][0]                   \n",
      "==================================================================================================\n",
      "Total params: 34,175\n",
      "Trainable params: 34,175\n",
      "Non-trainable params: 0\n",
      "__________________________________________________________________________________________________\n"
     ]
    }
   ],
   "source": [
    "model.summary()"
   ]
  },
  {
   "cell_type": "code",
   "execution_count": 43,
   "metadata": {},
   "outputs": [
    {
     "name": "stdout",
     "output_type": "stream",
     "text": [
      "Epoch 1/100\n",
      "12/12 [==============================] - 0s 23ms/step - loss: 0.0166 - mse: 0.0166 - val_loss: 0.0126 - val_mse: 0.0126\n",
      "Epoch 2/100\n",
      "12/12 [==============================] - 0s 8ms/step - loss: 0.0024 - mse: 0.0024 - val_loss: 0.0133 - val_mse: 0.0133\n",
      "Epoch 3/100\n",
      "12/12 [==============================] - 0s 8ms/step - loss: 0.0015 - mse: 0.0015 - val_loss: 0.0126 - val_mse: 0.0126\n",
      "Epoch 4/100\n",
      "12/12 [==============================] - 0s 7ms/step - loss: 0.0014 - mse: 0.0014 - val_loss: 0.0124 - val_mse: 0.0124\n",
      "Epoch 5/100\n",
      "12/12 [==============================] - 0s 7ms/step - loss: 0.0013 - mse: 0.0013 - val_loss: 0.0118 - val_mse: 0.0118\n",
      "Epoch 6/100\n",
      "12/12 [==============================] - 0s 7ms/step - loss: 0.0012 - mse: 0.0012 - val_loss: 0.0114 - val_mse: 0.0114\n",
      "Epoch 7/100\n",
      "12/12 [==============================] - 0s 7ms/step - loss: 0.0011 - mse: 0.0011 - val_loss: 0.0110 - val_mse: 0.0110\n",
      "Epoch 8/100\n",
      "12/12 [==============================] - 0s 7ms/step - loss: 9.7290e-04 - mse: 9.7290e-04 - val_loss: 0.0107 - val_mse: 0.0107\n",
      "Epoch 9/100\n",
      "12/12 [==============================] - 0s 7ms/step - loss: 8.8791e-04 - mse: 8.8791e-04 - val_loss: 0.0104 - val_mse: 0.0104\n",
      "Epoch 10/100\n",
      "12/12 [==============================] - 0s 7ms/step - loss: 8.6116e-04 - mse: 8.6116e-04 - val_loss: 0.0102 - val_mse: 0.0102\n",
      "Epoch 11/100\n",
      "12/12 [==============================] - 0s 8ms/step - loss: 7.7323e-04 - mse: 7.7323e-04 - val_loss: 0.0094 - val_mse: 0.0094\n",
      "Epoch 12/100\n",
      "12/12 [==============================] - 0s 7ms/step - loss: 6.9443e-04 - mse: 6.9443e-04 - val_loss: 0.0091 - val_mse: 0.0091\n",
      "Epoch 13/100\n",
      "12/12 [==============================] - 0s 7ms/step - loss: 6.2329e-04 - mse: 6.2329e-04 - val_loss: 0.0088 - val_mse: 0.0088\n",
      "Epoch 14/100\n",
      "12/12 [==============================] - 0s 7ms/step - loss: 6.0624e-04 - mse: 6.0624e-04 - val_loss: 0.0084 - val_mse: 0.0084\n",
      "Epoch 15/100\n",
      "12/12 [==============================] - 0s 7ms/step - loss: 5.5736e-04 - mse: 5.5736e-04 - val_loss: 0.0082 - val_mse: 0.0082\n",
      "Epoch 16/100\n",
      "12/12 [==============================] - 0s 7ms/step - loss: 5.1432e-04 - mse: 5.1432e-04 - val_loss: 0.0083 - val_mse: 0.0083\n",
      "Epoch 17/100\n",
      "12/12 [==============================] - 0s 7ms/step - loss: 4.8923e-04 - mse: 4.8923e-04 - val_loss: 0.0078 - val_mse: 0.0078\n",
      "Epoch 18/100\n",
      "12/12 [==============================] - 0s 7ms/step - loss: 4.8023e-04 - mse: 4.8023e-04 - val_loss: 0.0075 - val_mse: 0.0075\n",
      "Epoch 19/100\n",
      "12/12 [==============================] - 0s 7ms/step - loss: 4.4149e-04 - mse: 4.4149e-04 - val_loss: 0.0073 - val_mse: 0.0073\n",
      "Epoch 20/100\n",
      "12/12 [==============================] - 0s 7ms/step - loss: 4.5942e-04 - mse: 4.5942e-04 - val_loss: 0.0074 - val_mse: 0.0074\n",
      "Epoch 21/100\n",
      "12/12 [==============================] - 0s 7ms/step - loss: 4.1527e-04 - mse: 4.1527e-04 - val_loss: 0.0071 - val_mse: 0.0071\n",
      "Epoch 22/100\n",
      "12/12 [==============================] - 0s 7ms/step - loss: 4.4370e-04 - mse: 4.4370e-04 - val_loss: 0.0072 - val_mse: 0.0072\n",
      "Epoch 23/100\n",
      "12/12 [==============================] - 0s 7ms/step - loss: 4.6247e-04 - mse: 4.6247e-04 - val_loss: 0.0078 - val_mse: 0.0078\n",
      "Epoch 24/100\n",
      "12/12 [==============================] - 0s 7ms/step - loss: 5.6058e-04 - mse: 5.6058e-04 - val_loss: 0.0076 - val_mse: 0.0076\n",
      "Epoch 25/100\n",
      "12/12 [==============================] - 0s 6ms/step - loss: 5.0264e-04 - mse: 5.0264e-04 - val_loss: 0.0072 - val_mse: 0.0072\n",
      "Epoch 26/100\n",
      "12/12 [==============================] - 0s 7ms/step - loss: 4.2379e-04 - mse: 4.2379e-04 - val_loss: 0.0069 - val_mse: 0.0069\n",
      "Epoch 27/100\n",
      "12/12 [==============================] - 0s 7ms/step - loss: 3.8279e-04 - mse: 3.8279e-04 - val_loss: 0.0065 - val_mse: 0.0065\n",
      "Epoch 28/100\n",
      "12/12 [==============================] - 0s 7ms/step - loss: 3.6127e-04 - mse: 3.6127e-04 - val_loss: 0.0069 - val_mse: 0.0069\n",
      "Epoch 29/100\n",
      "12/12 [==============================] - 0s 7ms/step - loss: 3.5824e-04 - mse: 3.5824e-04 - val_loss: 0.0063 - val_mse: 0.0063\n",
      "Epoch 30/100\n",
      "12/12 [==============================] - 0s 7ms/step - loss: 3.3760e-04 - mse: 3.3760e-04 - val_loss: 0.0066 - val_mse: 0.0066\n",
      "Epoch 31/100\n",
      "12/12 [==============================] - 0s 7ms/step - loss: 3.3184e-04 - mse: 3.3184e-04 - val_loss: 0.0062 - val_mse: 0.0062\n",
      "Epoch 32/100\n",
      "12/12 [==============================] - 0s 7ms/step - loss: 3.0695e-04 - mse: 3.0695e-04 - val_loss: 0.0060 - val_mse: 0.0060\n",
      "Epoch 33/100\n",
      "12/12 [==============================] - 0s 7ms/step - loss: 3.0694e-04 - mse: 3.0694e-04 - val_loss: 0.0060 - val_mse: 0.0060\n",
      "Epoch 34/100\n",
      "12/12 [==============================] - 0s 7ms/step - loss: 2.9731e-04 - mse: 2.9731e-04 - val_loss: 0.0058 - val_mse: 0.0058\n",
      "Epoch 35/100\n",
      "12/12 [==============================] - 0s 6ms/step - loss: 3.0352e-04 - mse: 3.0352e-04 - val_loss: 0.0072 - val_mse: 0.0072\n",
      "Epoch 36/100\n",
      "12/12 [==============================] - 0s 7ms/step - loss: 3.0606e-04 - mse: 3.0606e-04 - val_loss: 0.0056 - val_mse: 0.0056\n",
      "Epoch 37/100\n",
      "12/12 [==============================] - 0s 7ms/step - loss: 2.9357e-04 - mse: 2.9357e-04 - val_loss: 0.0061 - val_mse: 0.0061\n",
      "Epoch 38/100\n",
      "12/12 [==============================] - 0s 7ms/step - loss: 2.7481e-04 - mse: 2.7481e-04 - val_loss: 0.0059 - val_mse: 0.0059\n",
      "Epoch 39/100\n",
      "12/12 [==============================] - 0s 7ms/step - loss: 2.7802e-04 - mse: 2.7802e-04 - val_loss: 0.0056 - val_mse: 0.0056\n",
      "Epoch 40/100\n",
      "12/12 [==============================] - 0s 7ms/step - loss: 2.6983e-04 - mse: 2.6983e-04 - val_loss: 0.0055 - val_mse: 0.0055\n",
      "Epoch 41/100\n",
      "12/12 [==============================] - 0s 7ms/step - loss: 2.6538e-04 - mse: 2.6538e-04 - val_loss: 0.0064 - val_mse: 0.0064\n",
      "Epoch 42/100\n",
      "12/12 [==============================] - 0s 7ms/step - loss: 3.1320e-04 - mse: 3.1320e-04 - val_loss: 0.0052 - val_mse: 0.0052\n",
      "Epoch 43/100\n",
      "12/12 [==============================] - 0s 7ms/step - loss: 2.5810e-04 - mse: 2.5810e-04 - val_loss: 0.0053 - val_mse: 0.0053\n",
      "Epoch 44/100\n",
      "12/12 [==============================] - 0s 7ms/step - loss: 2.5458e-04 - mse: 2.5458e-04 - val_loss: 0.0049 - val_mse: 0.0049\n",
      "Epoch 45/100\n",
      "12/12 [==============================] - 0s 7ms/step - loss: 2.6749e-04 - mse: 2.6749e-04 - val_loss: 0.0059 - val_mse: 0.0059\n",
      "Epoch 46/100\n",
      "12/12 [==============================] - 0s 7ms/step - loss: 2.4959e-04 - mse: 2.4959e-04 - val_loss: 0.0049 - val_mse: 0.0049\n",
      "Epoch 47/100\n",
      "12/12 [==============================] - 0s 7ms/step - loss: 2.3340e-04 - mse: 2.3340e-04 - val_loss: 0.0047 - val_mse: 0.0047\n",
      "Epoch 48/100\n",
      "12/12 [==============================] - 0s 6ms/step - loss: 2.3206e-04 - mse: 2.3206e-04 - val_loss: 0.0052 - val_mse: 0.0052\n",
      "Epoch 49/100\n",
      "12/12 [==============================] - 0s 7ms/step - loss: 2.3698e-04 - mse: 2.3698e-04 - val_loss: 0.0046 - val_mse: 0.0046\n",
      "Epoch 50/100\n",
      "12/12 [==============================] - 0s 7ms/step - loss: 2.3290e-04 - mse: 2.3290e-04 - val_loss: 0.0046 - val_mse: 0.0046\n",
      "Epoch 51/100\n",
      "12/12 [==============================] - 0s 7ms/step - loss: 2.2717e-04 - mse: 2.2717e-04 - val_loss: 0.0046 - val_mse: 0.0046\n",
      "Epoch 52/100\n",
      "12/12 [==============================] - 0s 7ms/step - loss: 2.1484e-04 - mse: 2.1484e-04 - val_loss: 0.0049 - val_mse: 0.0049\n",
      "Epoch 53/100\n",
      "12/12 [==============================] - 0s 7ms/step - loss: 2.0588e-04 - mse: 2.0588e-04 - val_loss: 0.0047 - val_mse: 0.0047\n",
      "Epoch 54/100\n",
      "12/12 [==============================] - 0s 6ms/step - loss: 2.1213e-04 - mse: 2.1213e-04 - val_loss: 0.0054 - val_mse: 0.0054\n",
      "Epoch 55/100\n",
      "12/12 [==============================] - 0s 6ms/step - loss: 2.5069e-04 - mse: 2.5069e-04 - val_loss: 0.0044 - val_mse: 0.0044\n",
      "Epoch 56/100\n",
      "12/12 [==============================] - 0s 7ms/step - loss: 2.3136e-04 - mse: 2.3136e-04 - val_loss: 0.0053 - val_mse: 0.0053\n",
      "Epoch 57/100\n",
      "12/12 [==============================] - 0s 6ms/step - loss: 2.3462e-04 - mse: 2.3462e-04 - val_loss: 0.0048 - val_mse: 0.0048\n",
      "Epoch 58/100\n",
      "12/12 [==============================] - 0s 6ms/step - loss: 2.2930e-04 - mse: 2.2930e-04 - val_loss: 0.0043 - val_mse: 0.0043\n",
      "Epoch 59/100\n",
      "12/12 [==============================] - ETA: 0s - loss: 2.0693e-04 - mse: 2.0693e-0 - 0s 6ms/step - loss: 2.0500e-04 - mse: 2.0500e-04 - val_loss: 0.0042 - val_mse: 0.0042\n"
     ]
    },
    {
     "name": "stdout",
     "output_type": "stream",
     "text": [
      "Epoch 60/100\n",
      "12/12 [==============================] - 0s 7ms/step - loss: 1.9046e-04 - mse: 1.9046e-04 - val_loss: 0.0043 - val_mse: 0.0043\n",
      "Epoch 61/100\n",
      "12/12 [==============================] - 0s 7ms/step - loss: 1.9612e-04 - mse: 1.9612e-04 - val_loss: 0.0047 - val_mse: 0.0047\n",
      "Epoch 62/100\n",
      "12/12 [==============================] - 0s 7ms/step - loss: 1.7864e-04 - mse: 1.7864e-04 - val_loss: 0.0042 - val_mse: 0.0042\n",
      "Epoch 63/100\n",
      "12/12 [==============================] - 0s 7ms/step - loss: 1.8133e-04 - mse: 1.8133e-04 - val_loss: 0.0039 - val_mse: 0.0039\n",
      "Epoch 64/100\n",
      "12/12 [==============================] - 0s 7ms/step - loss: 2.0013e-04 - mse: 2.0013e-04 - val_loss: 0.0040 - val_mse: 0.0040\n",
      "Epoch 65/100\n",
      "12/12 [==============================] - 0s 7ms/step - loss: 2.3513e-04 - mse: 2.3513e-04 - val_loss: 0.0046 - val_mse: 0.0046\n",
      "Epoch 66/100\n",
      "12/12 [==============================] - 0s 6ms/step - loss: 1.7912e-04 - mse: 1.7912e-04 - val_loss: 0.0039 - val_mse: 0.0039\n",
      "Epoch 67/100\n",
      "12/12 [==============================] - 0s 7ms/step - loss: 1.7491e-04 - mse: 1.7491e-04 - val_loss: 0.0039 - val_mse: 0.0039\n",
      "Epoch 68/100\n",
      "12/12 [==============================] - 0s 7ms/step - loss: 1.7113e-04 - mse: 1.7113e-04 - val_loss: 0.0038 - val_mse: 0.0038\n",
      "Epoch 69/100\n",
      "12/12 [==============================] - 0s 7ms/step - loss: 1.6353e-04 - mse: 1.6353e-04 - val_loss: 0.0040 - val_mse: 0.0040\n",
      "Epoch 70/100\n",
      "12/12 [==============================] - 0s 6ms/step - loss: 2.2717e-04 - mse: 2.2717e-04 - val_loss: 0.0036 - val_mse: 0.0036\n",
      "Epoch 71/100\n",
      "12/12 [==============================] - 0s 6ms/step - loss: 2.1271e-04 - mse: 2.1271e-04 - val_loss: 0.0036 - val_mse: 0.0036\n",
      "Epoch 72/100\n",
      "12/12 [==============================] - 0s 6ms/step - loss: 2.3186e-04 - mse: 2.3186e-04 - val_loss: 0.0039 - val_mse: 0.0039\n",
      "Epoch 73/100\n",
      "12/12 [==============================] - 0s 7ms/step - loss: 2.3946e-04 - mse: 2.3946e-04 - val_loss: 0.0038 - val_mse: 0.0038\n",
      "Epoch 74/100\n",
      "12/12 [==============================] - 0s 7ms/step - loss: 1.8534e-04 - mse: 1.8534e-04 - val_loss: 0.0035 - val_mse: 0.0035\n",
      "Epoch 75/100\n",
      "12/12 [==============================] - 0s 7ms/step - loss: 1.6109e-04 - mse: 1.6109e-04 - val_loss: 0.0034 - val_mse: 0.0034\n",
      "Epoch 76/100\n",
      "12/12 [==============================] - 0s 7ms/step - loss: 1.5695e-04 - mse: 1.5695e-04 - val_loss: 0.0033 - val_mse: 0.0033\n",
      "Epoch 77/100\n",
      "12/12 [==============================] - 0s 7ms/step - loss: 2.1166e-04 - mse: 2.1166e-04 - val_loss: 0.0047 - val_mse: 0.0047\n",
      "Epoch 78/100\n",
      "12/12 [==============================] - 0s 7ms/step - loss: 1.8154e-04 - mse: 1.8154e-04 - val_loss: 0.0035 - val_mse: 0.0035\n",
      "Epoch 79/100\n",
      "12/12 [==============================] - 0s 7ms/step - loss: 1.6256e-04 - mse: 1.6256e-04 - val_loss: 0.0031 - val_mse: 0.0031\n",
      "Epoch 80/100\n",
      "12/12 [==============================] - 0s 7ms/step - loss: 1.7367e-04 - mse: 1.7367e-04 - val_loss: 0.0041 - val_mse: 0.0041\n",
      "Epoch 81/100\n",
      "12/12 [==============================] - 0s 7ms/step - loss: 2.1009e-04 - mse: 2.1009e-04 - val_loss: 0.0033 - val_mse: 0.0033\n",
      "Epoch 82/100\n",
      "12/12 [==============================] - 0s 7ms/step - loss: 1.5478e-04 - mse: 1.5478e-04 - val_loss: 0.0034 - val_mse: 0.0034\n",
      "Epoch 83/100\n",
      "12/12 [==============================] - 0s 6ms/step - loss: 1.4782e-04 - mse: 1.4782e-04 - val_loss: 0.0032 - val_mse: 0.0032\n",
      "Epoch 84/100\n",
      "12/12 [==============================] - 0s 7ms/step - loss: 1.3734e-04 - mse: 1.3734e-04 - val_loss: 0.0031 - val_mse: 0.0031\n",
      "Epoch 85/100\n",
      "12/12 [==============================] - 0s 7ms/step - loss: 1.4145e-04 - mse: 1.4145e-04 - val_loss: 0.0032 - val_mse: 0.0032\n",
      "Epoch 86/100\n",
      "12/12 [==============================] - 0s 7ms/step - loss: 1.4481e-04 - mse: 1.4481e-04 - val_loss: 0.0036 - val_mse: 0.0036\n",
      "Epoch 87/100\n",
      "12/12 [==============================] - 0s 7ms/step - loss: 1.6387e-04 - mse: 1.6387e-04 - val_loss: 0.0030 - val_mse: 0.0030\n",
      "Epoch 88/100\n",
      "12/12 [==============================] - 0s 7ms/step - loss: 1.3070e-04 - mse: 1.3070e-04 - val_loss: 0.0031 - val_mse: 0.0031\n",
      "Epoch 89/100\n",
      "12/12 [==============================] - 0s 7ms/step - loss: 1.5357e-04 - mse: 1.5357e-04 - val_loss: 0.0032 - val_mse: 0.0032\n",
      "Epoch 90/100\n",
      "12/12 [==============================] - 0s 7ms/step - loss: 1.3468e-04 - mse: 1.3468e-04 - val_loss: 0.0030 - val_mse: 0.0030\n",
      "Epoch 91/100\n",
      "12/12 [==============================] - 0s 7ms/step - loss: 1.5366e-04 - mse: 1.5366e-04 - val_loss: 0.0049 - val_mse: 0.0049\n",
      "Epoch 92/100\n",
      "12/12 [==============================] - 0s 6ms/step - loss: 2.2861e-04 - mse: 2.2861e-04 - val_loss: 0.0042 - val_mse: 0.0042\n",
      "Epoch 93/100\n",
      "12/12 [==============================] - 0s 7ms/step - loss: 2.1982e-04 - mse: 2.1982e-04 - val_loss: 0.0031 - val_mse: 0.0031\n",
      "Epoch 94/100\n",
      "12/12 [==============================] - 0s 8ms/step - loss: 1.3824e-04 - mse: 1.3824e-04 - val_loss: 0.0030 - val_mse: 0.0030\n",
      "Epoch 95/100\n",
      "12/12 [==============================] - 0s 8ms/step - loss: 1.4025e-04 - mse: 1.4025e-04 - val_loss: 0.0028 - val_mse: 0.0028\n",
      "Epoch 96/100\n",
      "12/12 [==============================] - 0s 7ms/step - loss: 1.8891e-04 - mse: 1.8891e-04 - val_loss: 0.0036 - val_mse: 0.0036\n",
      "Epoch 97/100\n",
      "12/12 [==============================] - 0s 7ms/step - loss: 1.7248e-04 - mse: 1.7248e-04 - val_loss: 0.0030 - val_mse: 0.0030\n",
      "Epoch 98/100\n",
      "12/12 [==============================] - 0s 7ms/step - loss: 1.5957e-04 - mse: 1.5957e-04 - val_loss: 0.0029 - val_mse: 0.0029\n",
      "Epoch 99/100\n",
      "12/12 [==============================] - 0s 6ms/step - loss: 1.3524e-04 - mse: 1.3524e-04 - val_loss: 0.0028 - val_mse: 0.0028\n",
      "Epoch 100/100\n",
      "12/12 [==============================] - 0s 7ms/step - loss: 1.2419e-04 - mse: 1.2419e-04 - val_loss: 0.0025 - val_mse: 0.0025\n"
     ]
    },
    {
     "data": {
      "text/plain": [
       "<tensorflow.python.keras.callbacks.History at 0x25b621e76a0>"
      ]
     },
     "execution_count": 43,
     "metadata": {},
     "output_type": "execute_result"
    }
   ],
   "source": [
    "model.fit(X_train,y_train,validation_data=(X_test,ytest),epochs=100,batch_size=64,verbose=1)"
   ]
  },
  {
   "cell_type": "code",
   "execution_count": 45,
   "metadata": {},
   "outputs": [],
   "source": [
    "import tensorflow as tf"
   ]
  },
  {
   "cell_type": "code",
   "execution_count": 46,
   "metadata": {},
   "outputs": [
    {
     "data": {
      "text/plain": [
       "'2.3.0'"
      ]
     },
     "execution_count": 46,
     "metadata": {},
     "output_type": "execute_result"
    }
   ],
   "source": [
    "tf.__version__"
   ]
  },
  {
   "cell_type": "markdown",
   "metadata": {},
   "source": [
    "# Predicting and checking performance metrics"
   ]
  },
  {
   "cell_type": "code",
   "execution_count": 47,
   "metadata": {},
   "outputs": [],
   "source": [
    "train_predict=model.predict(X_train)\n",
    "test_predict=model.predict(X_test)"
   ]
  },
  {
   "cell_type": "markdown",
   "metadata": {},
   "source": [
    "# Transforming back train_predict and test_predict to original form"
   ]
  },
  {
   "cell_type": "code",
   "execution_count": 48,
   "metadata": {},
   "outputs": [],
   "source": [
    "train_predict=scaler.inverse_transform(train_predict)\n",
    "test_predict=scaler.inverse_transform(test_predict)"
   ]
  },
  {
   "cell_type": "markdown",
   "metadata": {},
   "source": [
    "# Calculating RMSE performance metrics"
   ]
  },
  {
   "cell_type": "code",
   "execution_count": 49,
   "metadata": {},
   "outputs": [
    {
     "data": {
      "text/plain": [
       "141.0142197763571"
      ]
     },
     "execution_count": 49,
     "metadata": {},
     "output_type": "execute_result"
    }
   ],
   "source": [
    "import math\n",
    "from sklearn.metrics import mean_squared_error\n",
    "math.sqrt(mean_squared_error(y_train,train_predict))"
   ]
  },
  {
   "cell_type": "markdown",
   "metadata": {},
   "source": [
    "#  Test Data RMSE"
   ]
  },
  {
   "cell_type": "code",
   "execution_count": 50,
   "metadata": {},
   "outputs": [
    {
     "data": {
      "text/plain": [
       "234.5362463817042"
      ]
     },
     "execution_count": 50,
     "metadata": {},
     "output_type": "execute_result"
    }
   ],
   "source": [
    "math.sqrt(mean_squared_error(ytest,test_predict))"
   ]
  },
  {
   "cell_type": "markdown",
   "metadata": {},
   "source": [
    "# STEP 1-Plotting \n",
    " # STEP 2-Shifting train predictions for plotting\n",
    " # STEP 3-Shifting test predictions for plotting\n",
    " # STEP 4-Plotting baseline and predictions\n",
    " # Green line shows test data predicted output\n",
    " # Oragne line shows train data\n",
    " # Blue line shows df1(data of close feature of data frame)"
   ]
  },
  {
   "cell_type": "code",
   "execution_count": 51,
   "metadata": {},
   "outputs": [
    {
     "data": {
      "image/png": "[encoded data removed]",
      "text/plain": [
       "<Figure size 432x288 with 1 Axes>"
      ]
     },
     "metadata": {
      "needs_background": "light"
     },
     "output_type": "display_data"
    }
   ],
   "source": [
    "look_back=100\n",
    "trainPredictPlot = numpy.empty_like(df1)\n",
    "trainPredictPlot[:, :] = np.nan\n",
    "trainPredictPlot[look_back:len(train_predict)+look_back, :] = train_predict\n",
    "testPredictPlot = numpy.empty_like(df1)\n",
    "testPredictPlot[:, :] = numpy.nan\n",
    "testPredictPlot[len(train_predict)+(look_back*2)+1:len(df1)-1, :] = test_predict\n",
    "plt.plot(scaler.inverse_transform(df1))\n",
    "plt.plot(trainPredictPlot)\n",
    "plt.plot(testPredictPlot)\n",
    "plt.show()"
   ]
  },
  {
   "cell_type": "code",
   "execution_count": 52,
   "metadata": {},
   "outputs": [
    {
     "data": {
      "text/plain": [
       "441"
      ]
     },
     "execution_count": 52,
     "metadata": {},
     "output_type": "execute_result"
    }
   ],
   "source": [
    "len(test_data)"
   ]
  },
  {
   "cell_type": "code",
   "execution_count": 53,
   "metadata": {},
   "outputs": [
    {
     "data": {
      "text/plain": [
       "(1, 100)"
      ]
     },
     "execution_count": 53,
     "metadata": {},
     "output_type": "execute_result"
    }
   ],
   "source": [
    "x_input=test_data[341:].reshape(1,-1)\n",
    "x_input.shape"
   ]
  },
  {
   "cell_type": "markdown",
   "metadata": {},
   "source": [
    "# Displaying previous 100 days test_data values"
   ]
  },
  {
   "cell_type": "code",
   "execution_count": 54,
   "metadata": {},
   "outputs": [
    {
     "data": {
      "text/plain": [
       "[0.8583551465000423,\n",
       " 0.8866418981676942,\n",
       " 0.8743139407244789,\n",
       " 0.8843198513890065,\n",
       " 0.8783669678290975,\n",
       " 0.8986321033521913,\n",
       " 0.925821160179009,\n",
       " 0.9287764924427933,\n",
       " 0.9567677108840666,\n",
       " 0.9386979650426415,\n",
       " 0.933040614709111,\n",
       " 0.9495060373216249,\n",
       " 0.9642404796082076,\n",
       " 0.9551211686228154,\n",
       " 0.9598919192772104,\n",
       " 0.9663514312251966,\n",
       " 0.9624672802499368,\n",
       " 0.9229502659799038,\n",
       " 0.9598497002448705,\n",
       " 0.9879253567508233,\n",
       " 0.985941062230854,\n",
       " 0.9253145317909315,\n",
       " 0.9217259140420504,\n",
       " 0.964747107996285,\n",
       " 0.9757240564046274,\n",
       " 0.9915984125643842,\n",
       " 0.9697289538123788,\n",
       " 0.9761462467280253,\n",
       " 0.9679557544541082,\n",
       " 1.0000000000000002,\n",
       " 0.9901629654648318,\n",
       " 0.9905007177235499,\n",
       " 0.9653803934813816,\n",
       " 0.9848855864223593,\n",
       " 0.9708688676855528,\n",
       " 0.9402600692392133,\n",
       " 0.8774803681499621,\n",
       " 0.8348391454867856,\n",
       " 0.8541332432660644,\n",
       " 0.7733682344000676,\n",
       " 0.7726927298826314,\n",
       " 0.8801401671873683,\n",
       " 0.8400743054969182,\n",
       " 0.8967322468969012,\n",
       " 0.8552731571392387,\n",
       " 0.8388499535590646,\n",
       " 0.7423372456303303,\n",
       " 0.8232711306256861,\n",
       " 0.7814320695769654,\n",
       " 0.6665963016127672,\n",
       " 0.7921557037912694,\n",
       " 0.6411804441442204,\n",
       " 0.6861437135860848,\n",
       " 0.6600101325677616,\n",
       " 0.6520307354555435,\n",
       " 0.5864223591995272,\n",
       " 0.5658616904500551,\n",
       " 0.660896732246897,\n",
       " 0.6551549438486872,\n",
       " 0.7097019336316812,\n",
       " 0.664527569028118,\n",
       " 0.6943764248923416,\n",
       " 0.692181035210673,\n",
       " 0.6356919699400492,\n",
       " 0.6526640209406402,\n",
       " 0.637802921557038,\n",
       " 0.7267162036646122,\n",
       " 0.7138816178333194,\n",
       " 0.7419150553069325,\n",
       " 0.7500211095161702,\n",
       " 0.7722283205268936,\n",
       " 0.8304905851557884,\n",
       " 0.8194291986827664,\n",
       " 0.8289706999915563,\n",
       " 0.8125474964113824,\n",
       " 0.7877649244279323,\n",
       " 0.7516254327450818,\n",
       " 0.7842607447437306,\n",
       " 0.7797433082833742,\n",
       " 0.8132652199611587,\n",
       " 0.8141096006079542,\n",
       " 0.7947310647639958,\n",
       " 0.8333614793548934,\n",
       " 0.8589884319851391,\n",
       " 0.8390188296884238,\n",
       " 0.8562864139153934,\n",
       " 0.8748627881448958,\n",
       " 0.887824031073208,\n",
       " 0.9009541501308793,\n",
       " 0.9279321117959978,\n",
       " 0.9485349995778098,\n",
       " 0.9333361479354896,\n",
       " 0.9174617917757326,\n",
       " 0.925441188887951,\n",
       " 0.9177151059697712,\n",
       " 0.9483239044161109,\n",
       " 0.9406400405302711,\n",
       " 0.9663514312251966,\n",
       " 0.9563033015283293,\n",
       " 0.964915984125644]"
      ]
     },
     "execution_count": 54,
     "metadata": {},
     "output_type": "execute_result"
    }
   ],
   "source": [
    "temp_input=list(x_input)\n",
    "temp_input=temp_input[0].tolist()\n",
    "temp_input"
   ]
  },
  {
   "cell_type": "markdown",
   "metadata": {},
   "source": [
    "# STEP 1-Demonstrating prediction for next 10 days\n",
    "# STEP2-Printing(temp_input)\n",
    "# STEP3-Printing(x_input)\n",
    "# STEP4-Printing(temp_input)"
   ]
  },
  {
   "cell_type": "code",
   "execution_count": 55,
   "metadata": {},
   "outputs": [
    {
     "name": "stdout",
     "output_type": "stream",
     "text": [
      "[0.90519065]\n",
      "101\n",
      "1 day input [0.8866419  0.87431394 0.88431985 0.87836697 0.8986321  0.92582116\n",
      " 0.92877649 0.95676771 0.93869797 0.93304061 0.94950604 0.96424048\n",
      " 0.95512117 0.95989192 0.96635143 0.96246728 0.92295027 0.9598497\n",
      " 0.98792536 0.98594106 0.92531453 0.92172591 0.96474711 0.97572406\n",
      " 0.99159841 0.96972895 0.97614625 0.96795575 1.         0.99016297\n",
      " 0.99050072 0.96538039 0.98488559 0.97086887 0.94026007 0.87748037\n",
      " 0.83483915 0.85413324 0.77336823 0.77269273 0.88014017 0.84007431\n",
      " 0.89673225 0.85527316 0.83884995 0.74233725 0.82327113 0.78143207\n",
      " 0.6665963  0.7921557  0.64118044 0.68614371 0.66001013 0.65203074\n",
      " 0.58642236 0.56586169 0.66089673 0.65515494 0.70970193 0.66452757\n",
      " 0.69437642 0.69218104 0.63569197 0.65266402 0.63780292 0.7267162\n",
      " 0.71388162 0.74191506 0.75002111 0.77222832 0.83049059 0.8194292\n",
      " 0.8289707  0.8125475  0.78776492 0.75162543 0.78426074 0.77974331\n",
      " 0.81326522 0.8141096  0.79473106 0.83336148 0.85898843 0.83901883\n",
      " 0.85628641 0.87486279 0.88782403 0.90095415 0.92793211 0.948535\n",
      " 0.93333615 0.91746179 0.92544119 0.91771511 0.9483239  0.94064004\n",
      " 0.96635143 0.9563033  0.96491598 0.90519065]\n",
      "1 day output [[0.90770453]]\n",
      "2 day input [0.87431394 0.88431985 0.87836697 0.8986321  0.92582116 0.92877649\n",
      " 0.95676771 0.93869797 0.93304061 0.94950604 0.96424048 0.95512117\n",
      " 0.95989192 0.96635143 0.96246728 0.92295027 0.9598497  0.98792536\n",
      " 0.98594106 0.92531453 0.92172591 0.96474711 0.97572406 0.99159841\n",
      " 0.96972895 0.97614625 0.96795575 1.         0.99016297 0.99050072\n",
      " 0.96538039 0.98488559 0.97086887 0.94026007 0.87748037 0.83483915\n",
      " 0.85413324 0.77336823 0.77269273 0.88014017 0.84007431 0.89673225\n",
      " 0.85527316 0.83884995 0.74233725 0.82327113 0.78143207 0.6665963\n",
      " 0.7921557  0.64118044 0.68614371 0.66001013 0.65203074 0.58642236\n",
      " 0.56586169 0.66089673 0.65515494 0.70970193 0.66452757 0.69437642\n",
      " 0.69218104 0.63569197 0.65266402 0.63780292 0.7267162  0.71388162\n",
      " 0.74191506 0.75002111 0.77222832 0.83049059 0.8194292  0.8289707\n",
      " 0.8125475  0.78776492 0.75162543 0.78426074 0.77974331 0.81326522\n",
      " 0.8141096  0.79473106 0.83336148 0.85898843 0.83901883 0.85628641\n",
      " 0.87486279 0.88782403 0.90095415 0.92793211 0.948535   0.93333615\n",
      " 0.91746179 0.92544119 0.91771511 0.9483239  0.94064004 0.96635143\n",
      " 0.9563033  0.96491598 0.90519065 0.90770453]\n",
      "2 day output [[0.9089684]]\n",
      "3 day input [0.88431985 0.87836697 0.8986321  0.92582116 0.92877649 0.95676771\n",
      " 0.93869797 0.93304061 0.94950604 0.96424048 0.95512117 0.95989192\n",
      " 0.96635143 0.96246728 0.92295027 0.9598497  0.98792536 0.98594106\n",
      " 0.92531453 0.92172591 0.96474711 0.97572406 0.99159841 0.96972895\n",
      " 0.97614625 0.96795575 1.         0.99016297 0.99050072 0.96538039\n",
      " 0.98488559 0.97086887 0.94026007 0.87748037 0.83483915 0.85413324\n",
      " 0.77336823 0.77269273 0.88014017 0.84007431 0.89673225 0.85527316\n",
      " 0.83884995 0.74233725 0.82327113 0.78143207 0.6665963  0.7921557\n",
      " 0.64118044 0.68614371 0.66001013 0.65203074 0.58642236 0.56586169\n",
      " 0.66089673 0.65515494 0.70970193 0.66452757 0.69437642 0.69218104\n",
      " 0.63569197 0.65266402 0.63780292 0.7267162  0.71388162 0.74191506\n",
      " 0.75002111 0.77222832 0.83049059 0.8194292  0.8289707  0.8125475\n",
      " 0.78776492 0.75162543 0.78426074 0.77974331 0.81326522 0.8141096\n",
      " 0.79473106 0.83336148 0.85898843 0.83901883 0.85628641 0.87486279\n",
      " 0.88782403 0.90095415 0.92793211 0.948535   0.93333615 0.91746179\n",
      " 0.92544119 0.91771511 0.9483239  0.94064004 0.96635143 0.9563033\n",
      " 0.96491598 0.90519065 0.90770453 0.90896839]\n",
      "3 day output [[0.909498]]\n",
      "4 day input [0.87836697 0.8986321  0.92582116 0.92877649 0.95676771 0.93869797\n",
      " 0.93304061 0.94950604 0.96424048 0.95512117 0.95989192 0.96635143\n",
      " 0.96246728 0.92295027 0.9598497  0.98792536 0.98594106 0.92531453\n",
      " 0.92172591 0.96474711 0.97572406 0.99159841 0.96972895 0.97614625\n",
      " 0.96795575 1.         0.99016297 0.99050072 0.96538039 0.98488559\n",
      " 0.97086887 0.94026007 0.87748037 0.83483915 0.85413324 0.77336823\n",
      " 0.77269273 0.88014017 0.84007431 0.89673225 0.85527316 0.83884995\n",
      " 0.74233725 0.82327113 0.78143207 0.6665963  0.7921557  0.64118044\n",
      " 0.68614371 0.66001013 0.65203074 0.58642236 0.56586169 0.66089673\n",
      " 0.65515494 0.70970193 0.66452757 0.69437642 0.69218104 0.63569197\n",
      " 0.65266402 0.63780292 0.7267162  0.71388162 0.74191506 0.75002111\n",
      " 0.77222832 0.83049059 0.8194292  0.8289707  0.8125475  0.78776492\n",
      " 0.75162543 0.78426074 0.77974331 0.81326522 0.8141096  0.79473106\n",
      " 0.83336148 0.85898843 0.83901883 0.85628641 0.87486279 0.88782403\n",
      " 0.90095415 0.92793211 0.948535   0.93333615 0.91746179 0.92544119\n",
      " 0.91771511 0.9483239  0.94064004 0.96635143 0.9563033  0.96491598\n",
      " 0.90519065 0.90770453 0.90896839 0.90949798]\n",
      "4 day output [[0.90414256]]\n",
      "5 day input [0.8986321  0.92582116 0.92877649 0.95676771 0.93869797 0.93304061\n",
      " 0.94950604 0.96424048 0.95512117 0.95989192 0.96635143 0.96246728\n",
      " 0.92295027 0.9598497  0.98792536 0.98594106 0.92531453 0.92172591\n",
      " 0.96474711 0.97572406 0.99159841 0.96972895 0.97614625 0.96795575\n",
      " 1.         0.99016297 0.99050072 0.96538039 0.98488559 0.97086887\n",
      " 0.94026007 0.87748037 0.83483915 0.85413324 0.77336823 0.77269273\n",
      " 0.88014017 0.84007431 0.89673225 0.85527316 0.83884995 0.74233725\n",
      " 0.82327113 0.78143207 0.6665963  0.7921557  0.64118044 0.68614371\n",
      " 0.66001013 0.65203074 0.58642236 0.56586169 0.66089673 0.65515494\n",
      " 0.70970193 0.66452757 0.69437642 0.69218104 0.63569197 0.65266402\n",
      " 0.63780292 0.7267162  0.71388162 0.74191506 0.75002111 0.77222832\n",
      " 0.83049059 0.8194292  0.8289707  0.8125475  0.78776492 0.75162543\n",
      " 0.78426074 0.77974331 0.81326522 0.8141096  0.79473106 0.83336148\n",
      " 0.85898843 0.83901883 0.85628641 0.87486279 0.88782403 0.90095415\n",
      " 0.92793211 0.948535   0.93333615 0.91746179 0.92544119 0.91771511\n",
      " 0.9483239  0.94064004 0.96635143 0.9563033  0.96491598 0.90519065\n",
      " 0.90770453 0.90896839 0.90949798 0.90414256]\n",
      "5 day output [[0.9011664]]\n",
      "6 day input [0.92582116 0.92877649 0.95676771 0.93869797 0.93304061 0.94950604\n",
      " 0.96424048 0.95512117 0.95989192 0.96635143 0.96246728 0.92295027\n",
      " 0.9598497  0.98792536 0.98594106 0.92531453 0.92172591 0.96474711\n",
      " 0.97572406 0.99159841 0.96972895 0.97614625 0.96795575 1.\n",
      " 0.99016297 0.99050072 0.96538039 0.98488559 0.97086887 0.94026007\n",
      " 0.87748037 0.83483915 0.85413324 0.77336823 0.77269273 0.88014017\n",
      " 0.84007431 0.89673225 0.85527316 0.83884995 0.74233725 0.82327113\n",
      " 0.78143207 0.6665963  0.7921557  0.64118044 0.68614371 0.66001013\n",
      " 0.65203074 0.58642236 0.56586169 0.66089673 0.65515494 0.70970193\n",
      " 0.66452757 0.69437642 0.69218104 0.63569197 0.65266402 0.63780292\n",
      " 0.7267162  0.71388162 0.74191506 0.75002111 0.77222832 0.83049059\n",
      " 0.8194292  0.8289707  0.8125475  0.78776492 0.75162543 0.78426074\n",
      " 0.77974331 0.81326522 0.8141096  0.79473106 0.83336148 0.85898843\n",
      " 0.83901883 0.85628641 0.87486279 0.88782403 0.90095415 0.92793211\n",
      " 0.948535   0.93333615 0.91746179 0.92544119 0.91771511 0.9483239\n",
      " 0.94064004 0.96635143 0.9563033  0.96491598 0.90519065 0.90770453\n",
      " 0.90896839 0.90949798 0.90414256 0.90116638]\n",
      "6 day output [[0.8951738]]\n",
      "7 day input [0.92877649 0.95676771 0.93869797 0.93304061 0.94950604 0.96424048\n",
      " 0.95512117 0.95989192 0.96635143 0.96246728 0.92295027 0.9598497\n",
      " 0.98792536 0.98594106 0.92531453 0.92172591 0.96474711 0.97572406\n",
      " 0.99159841 0.96972895 0.97614625 0.96795575 1.         0.99016297\n",
      " 0.99050072 0.96538039 0.98488559 0.97086887 0.94026007 0.87748037\n",
      " 0.83483915 0.85413324 0.77336823 0.77269273 0.88014017 0.84007431\n",
      " 0.89673225 0.85527316 0.83884995 0.74233725 0.82327113 0.78143207\n",
      " 0.6665963  0.7921557  0.64118044 0.68614371 0.66001013 0.65203074\n",
      " 0.58642236 0.56586169 0.66089673 0.65515494 0.70970193 0.66452757\n",
      " 0.69437642 0.69218104 0.63569197 0.65266402 0.63780292 0.7267162\n",
      " 0.71388162 0.74191506 0.75002111 0.77222832 0.83049059 0.8194292\n",
      " 0.8289707  0.8125475  0.78776492 0.75162543 0.78426074 0.77974331\n",
      " 0.81326522 0.8141096  0.79473106 0.83336148 0.85898843 0.83901883\n",
      " 0.85628641 0.87486279 0.88782403 0.90095415 0.92793211 0.948535\n",
      " 0.93333615 0.91746179 0.92544119 0.91771511 0.9483239  0.94064004\n",
      " 0.96635143 0.9563033  0.96491598 0.90519065 0.90770453 0.90896839\n",
      " 0.90949798 0.90414256 0.90116638 0.89517379]\n",
      "7 day output [[0.901923]]\n",
      "8 day input [0.95676771 0.93869797 0.93304061 0.94950604 0.96424048 0.95512117\n",
      " 0.95989192 0.96635143 0.96246728 0.92295027 0.9598497  0.98792536\n",
      " 0.98594106 0.92531453 0.92172591 0.96474711 0.97572406 0.99159841\n",
      " 0.96972895 0.97614625 0.96795575 1.         0.99016297 0.99050072\n",
      " 0.96538039 0.98488559 0.97086887 0.94026007 0.87748037 0.83483915\n",
      " 0.85413324 0.77336823 0.77269273 0.88014017 0.84007431 0.89673225\n",
      " 0.85527316 0.83884995 0.74233725 0.82327113 0.78143207 0.6665963\n",
      " 0.7921557  0.64118044 0.68614371 0.66001013 0.65203074 0.58642236\n",
      " 0.56586169 0.66089673 0.65515494 0.70970193 0.66452757 0.69437642\n",
      " 0.69218104 0.63569197 0.65266402 0.63780292 0.7267162  0.71388162\n",
      " 0.74191506 0.75002111 0.77222832 0.83049059 0.8194292  0.8289707\n",
      " 0.8125475  0.78776492 0.75162543 0.78426074 0.77974331 0.81326522\n",
      " 0.8141096  0.79473106 0.83336148 0.85898843 0.83901883 0.85628641\n",
      " 0.87486279 0.88782403 0.90095415 0.92793211 0.948535   0.93333615\n",
      " 0.91746179 0.92544119 0.91771511 0.9483239  0.94064004 0.96635143\n",
      " 0.9563033  0.96491598 0.90519065 0.90770453 0.90896839 0.90949798\n",
      " 0.90414256 0.90116638 0.89517379 0.901923  ]\n",
      "8 day output [[0.90513164]]\n",
      "9 day input [0.93869797 0.93304061 0.94950604 0.96424048 0.95512117 0.95989192\n",
      " 0.96635143 0.96246728 0.92295027 0.9598497  0.98792536 0.98594106\n",
      " 0.92531453 0.92172591 0.96474711 0.97572406 0.99159841 0.96972895\n",
      " 0.97614625 0.96795575 1.         0.99016297 0.99050072 0.96538039\n",
      " 0.98488559 0.97086887 0.94026007 0.87748037 0.83483915 0.85413324\n",
      " 0.77336823 0.77269273 0.88014017 0.84007431 0.89673225 0.85527316\n",
      " 0.83884995 0.74233725 0.82327113 0.78143207 0.6665963  0.7921557\n",
      " 0.64118044 0.68614371 0.66001013 0.65203074 0.58642236 0.56586169\n",
      " 0.66089673 0.65515494 0.70970193 0.66452757 0.69437642 0.69218104\n",
      " 0.63569197 0.65266402 0.63780292 0.7267162  0.71388162 0.74191506\n",
      " 0.75002111 0.77222832 0.83049059 0.8194292  0.8289707  0.8125475\n",
      " 0.78776492 0.75162543 0.78426074 0.77974331 0.81326522 0.8141096\n",
      " 0.79473106 0.83336148 0.85898843 0.83901883 0.85628641 0.87486279\n",
      " 0.88782403 0.90095415 0.92793211 0.948535   0.93333615 0.91746179\n",
      " 0.92544119 0.91771511 0.9483239  0.94064004 0.96635143 0.9563033\n",
      " 0.96491598 0.90519065 0.90770453 0.90896839 0.90949798 0.90414256\n",
      " 0.90116638 0.89517379 0.901923   0.90513164]\n",
      "9 day output [[0.9081794]]\n",
      "10 day input [0.93304061 0.94950604 0.96424048 0.95512117 0.95989192 0.96635143\n",
      " 0.96246728 0.92295027 0.9598497  0.98792536 0.98594106 0.92531453\n",
      " 0.92172591 0.96474711 0.97572406 0.99159841 0.96972895 0.97614625\n",
      " 0.96795575 1.         0.99016297 0.99050072 0.96538039 0.98488559\n",
      " 0.97086887 0.94026007 0.87748037 0.83483915 0.85413324 0.77336823\n",
      " 0.77269273 0.88014017 0.84007431 0.89673225 0.85527316 0.83884995\n",
      " 0.74233725 0.82327113 0.78143207 0.6665963  0.7921557  0.64118044\n",
      " 0.68614371 0.66001013 0.65203074 0.58642236 0.56586169 0.66089673\n",
      " 0.65515494 0.70970193 0.66452757 0.69437642 0.69218104 0.63569197\n",
      " 0.65266402 0.63780292 0.7267162  0.71388162 0.74191506 0.75002111\n",
      " 0.77222832 0.83049059 0.8194292  0.8289707  0.8125475  0.78776492\n",
      " 0.75162543 0.78426074 0.77974331 0.81326522 0.8141096  0.79473106\n",
      " 0.83336148 0.85898843 0.83901883 0.85628641 0.87486279 0.88782403\n",
      " 0.90095415 0.92793211 0.948535   0.93333615 0.91746179 0.92544119\n",
      " 0.91771511 0.9483239  0.94064004 0.96635143 0.9563033  0.96491598\n",
      " 0.90519065 0.90770453 0.90896839 0.90949798 0.90414256 0.90116638\n",
      " 0.89517379 0.901923   0.90513164 0.9081794 ]\n",
      "10 day output [[0.90526867]]\n",
      "11 day input [0.94950604 0.96424048 0.95512117 0.95989192 0.96635143 0.96246728\n",
      " 0.92295027 0.9598497  0.98792536 0.98594106 0.92531453 0.92172591\n",
      " 0.96474711 0.97572406 0.99159841 0.96972895 0.97614625 0.96795575\n",
      " 1.         0.99016297 0.99050072 0.96538039 0.98488559 0.97086887\n",
      " 0.94026007 0.87748037 0.83483915 0.85413324 0.77336823 0.77269273\n",
      " 0.88014017 0.84007431 0.89673225 0.85527316 0.83884995 0.74233725\n",
      " 0.82327113 0.78143207 0.6665963  0.7921557  0.64118044 0.68614371\n",
      " 0.66001013 0.65203074 0.58642236 0.56586169 0.66089673 0.65515494\n",
      " 0.70970193 0.66452757 0.69437642 0.69218104 0.63569197 0.65266402\n",
      " 0.63780292 0.7267162  0.71388162 0.74191506 0.75002111 0.77222832\n",
      " 0.83049059 0.8194292  0.8289707  0.8125475  0.78776492 0.75162543\n",
      " 0.78426074 0.77974331 0.81326522 0.8141096  0.79473106 0.83336148\n",
      " 0.85898843 0.83901883 0.85628641 0.87486279 0.88782403 0.90095415\n",
      " 0.92793211 0.948535   0.93333615 0.91746179 0.92544119 0.91771511\n",
      " 0.9483239  0.94064004 0.96635143 0.9563033  0.96491598 0.90519065\n",
      " 0.90770453 0.90896839 0.90949798 0.90414256 0.90116638 0.89517379\n",
      " 0.901923   0.90513164 0.9081794  0.90526867]\n",
      "11 day output [[0.91074127]]\n",
      "12 day input [0.96424048 0.95512117 0.95989192 0.96635143 0.96246728 0.92295027\n",
      " 0.9598497  0.98792536 0.98594106 0.92531453 0.92172591 0.96474711\n",
      " 0.97572406 0.99159841 0.96972895 0.97614625 0.96795575 1.\n",
      " 0.99016297 0.99050072 0.96538039 0.98488559 0.97086887 0.94026007\n",
      " 0.87748037 0.83483915 0.85413324 0.77336823 0.77269273 0.88014017\n",
      " 0.84007431 0.89673225 0.85527316 0.83884995 0.74233725 0.82327113\n",
      " 0.78143207 0.6665963  0.7921557  0.64118044 0.68614371 0.66001013\n",
      " 0.65203074 0.58642236 0.56586169 0.66089673 0.65515494 0.70970193\n",
      " 0.66452757 0.69437642 0.69218104 0.63569197 0.65266402 0.63780292\n",
      " 0.7267162  0.71388162 0.74191506 0.75002111 0.77222832 0.83049059\n",
      " 0.8194292  0.8289707  0.8125475  0.78776492 0.75162543 0.78426074\n",
      " 0.77974331 0.81326522 0.8141096  0.79473106 0.83336148 0.85898843\n",
      " 0.83901883 0.85628641 0.87486279 0.88782403 0.90095415 0.92793211\n",
      " 0.948535   0.93333615 0.91746179 0.92544119 0.91771511 0.9483239\n",
      " 0.94064004 0.96635143 0.9563033  0.96491598 0.90519065 0.90770453\n",
      " 0.90896839 0.90949798 0.90414256 0.90116638 0.89517379 0.901923\n",
      " 0.90513164 0.9081794  0.90526867 0.91074127]\n",
      "12 day output [[0.91611874]]\n",
      "13 day input [0.95512117 0.95989192 0.96635143 0.96246728 0.92295027 0.9598497\n",
      " 0.98792536 0.98594106 0.92531453 0.92172591 0.96474711 0.97572406\n",
      " 0.99159841 0.96972895 0.97614625 0.96795575 1.         0.99016297\n",
      " 0.99050072 0.96538039 0.98488559 0.97086887 0.94026007 0.87748037\n",
      " 0.83483915 0.85413324 0.77336823 0.77269273 0.88014017 0.84007431\n",
      " 0.89673225 0.85527316 0.83884995 0.74233725 0.82327113 0.78143207\n",
      " 0.6665963  0.7921557  0.64118044 0.68614371 0.66001013 0.65203074\n",
      " 0.58642236 0.56586169 0.66089673 0.65515494 0.70970193 0.66452757\n",
      " 0.69437642 0.69218104 0.63569197 0.65266402 0.63780292 0.7267162\n",
      " 0.71388162 0.74191506 0.75002111 0.77222832 0.83049059 0.8194292\n",
      " 0.8289707  0.8125475  0.78776492 0.75162543 0.78426074 0.77974331\n",
      " 0.81326522 0.8141096  0.79473106 0.83336148 0.85898843 0.83901883\n",
      " 0.85628641 0.87486279 0.88782403 0.90095415 0.92793211 0.948535\n",
      " 0.93333615 0.91746179 0.92544119 0.91771511 0.9483239  0.94064004\n",
      " 0.96635143 0.9563033  0.96491598 0.90519065 0.90770453 0.90896839\n",
      " 0.90949798 0.90414256 0.90116638 0.89517379 0.901923   0.90513164\n",
      " 0.9081794  0.90526867 0.91074127 0.91611874]\n",
      "13 day output [[0.9199428]]\n",
      "14 day input [0.95989192 0.96635143 0.96246728 0.92295027 0.9598497  0.98792536\n",
      " 0.98594106 0.92531453 0.92172591 0.96474711 0.97572406 0.99159841\n",
      " 0.96972895 0.97614625 0.96795575 1.         0.99016297 0.99050072\n",
      " 0.96538039 0.98488559 0.97086887 0.94026007 0.87748037 0.83483915\n",
      " 0.85413324 0.77336823 0.77269273 0.88014017 0.84007431 0.89673225\n",
      " 0.85527316 0.83884995 0.74233725 0.82327113 0.78143207 0.6665963\n",
      " 0.7921557  0.64118044 0.68614371 0.66001013 0.65203074 0.58642236\n",
      " 0.56586169 0.66089673 0.65515494 0.70970193 0.66452757 0.69437642\n",
      " 0.69218104 0.63569197 0.65266402 0.63780292 0.7267162  0.71388162\n",
      " 0.74191506 0.75002111 0.77222832 0.83049059 0.8194292  0.8289707\n",
      " 0.8125475  0.78776492 0.75162543 0.78426074 0.77974331 0.81326522\n",
      " 0.8141096  0.79473106 0.83336148 0.85898843 0.83901883 0.85628641\n",
      " 0.87486279 0.88782403 0.90095415 0.92793211 0.948535   0.93333615\n",
      " 0.91746179 0.92544119 0.91771511 0.9483239  0.94064004 0.96635143\n",
      " 0.9563033  0.96491598 0.90519065 0.90770453 0.90896839 0.90949798\n",
      " 0.90414256 0.90116638 0.89517379 0.901923   0.90513164 0.9081794\n",
      " 0.90526867 0.91074127 0.91611874 0.9199428 ]\n"
     ]
    },
    {
     "name": "stdout",
     "output_type": "stream",
     "text": [
      "14 day output [[0.92824113]]\n",
      "15 day input [0.96635143 0.96246728 0.92295027 0.9598497  0.98792536 0.98594106\n",
      " 0.92531453 0.92172591 0.96474711 0.97572406 0.99159841 0.96972895\n",
      " 0.97614625 0.96795575 1.         0.99016297 0.99050072 0.96538039\n",
      " 0.98488559 0.97086887 0.94026007 0.87748037 0.83483915 0.85413324\n",
      " 0.77336823 0.77269273 0.88014017 0.84007431 0.89673225 0.85527316\n",
      " 0.83884995 0.74233725 0.82327113 0.78143207 0.6665963  0.7921557\n",
      " 0.64118044 0.68614371 0.66001013 0.65203074 0.58642236 0.56586169\n",
      " 0.66089673 0.65515494 0.70970193 0.66452757 0.69437642 0.69218104\n",
      " 0.63569197 0.65266402 0.63780292 0.7267162  0.71388162 0.74191506\n",
      " 0.75002111 0.77222832 0.83049059 0.8194292  0.8289707  0.8125475\n",
      " 0.78776492 0.75162543 0.78426074 0.77974331 0.81326522 0.8141096\n",
      " 0.79473106 0.83336148 0.85898843 0.83901883 0.85628641 0.87486279\n",
      " 0.88782403 0.90095415 0.92793211 0.948535   0.93333615 0.91746179\n",
      " 0.92544119 0.91771511 0.9483239  0.94064004 0.96635143 0.9563033\n",
      " 0.96491598 0.90519065 0.90770453 0.90896839 0.90949798 0.90414256\n",
      " 0.90116638 0.89517379 0.901923   0.90513164 0.9081794  0.90526867\n",
      " 0.91074127 0.91611874 0.9199428  0.92824113]\n",
      "15 day output [[0.9425157]]\n",
      "16 day input [0.96246728 0.92295027 0.9598497  0.98792536 0.98594106 0.92531453\n",
      " 0.92172591 0.96474711 0.97572406 0.99159841 0.96972895 0.97614625\n",
      " 0.96795575 1.         0.99016297 0.99050072 0.96538039 0.98488559\n",
      " 0.97086887 0.94026007 0.87748037 0.83483915 0.85413324 0.77336823\n",
      " 0.77269273 0.88014017 0.84007431 0.89673225 0.85527316 0.83884995\n",
      " 0.74233725 0.82327113 0.78143207 0.6665963  0.7921557  0.64118044\n",
      " 0.68614371 0.66001013 0.65203074 0.58642236 0.56586169 0.66089673\n",
      " 0.65515494 0.70970193 0.66452757 0.69437642 0.69218104 0.63569197\n",
      " 0.65266402 0.63780292 0.7267162  0.71388162 0.74191506 0.75002111\n",
      " 0.77222832 0.83049059 0.8194292  0.8289707  0.8125475  0.78776492\n",
      " 0.75162543 0.78426074 0.77974331 0.81326522 0.8141096  0.79473106\n",
      " 0.83336148 0.85898843 0.83901883 0.85628641 0.87486279 0.88782403\n",
      " 0.90095415 0.92793211 0.948535   0.93333615 0.91746179 0.92544119\n",
      " 0.91771511 0.9483239  0.94064004 0.96635143 0.9563033  0.96491598\n",
      " 0.90519065 0.90770453 0.90896839 0.90949798 0.90414256 0.90116638\n",
      " 0.89517379 0.901923   0.90513164 0.9081794  0.90526867 0.91074127\n",
      " 0.91611874 0.9199428  0.92824113 0.94251567]\n",
      "16 day output [[0.95733726]]\n",
      "17 day input [0.92295027 0.9598497  0.98792536 0.98594106 0.92531453 0.92172591\n",
      " 0.96474711 0.97572406 0.99159841 0.96972895 0.97614625 0.96795575\n",
      " 1.         0.99016297 0.99050072 0.96538039 0.98488559 0.97086887\n",
      " 0.94026007 0.87748037 0.83483915 0.85413324 0.77336823 0.77269273\n",
      " 0.88014017 0.84007431 0.89673225 0.85527316 0.83884995 0.74233725\n",
      " 0.82327113 0.78143207 0.6665963  0.7921557  0.64118044 0.68614371\n",
      " 0.66001013 0.65203074 0.58642236 0.56586169 0.66089673 0.65515494\n",
      " 0.70970193 0.66452757 0.69437642 0.69218104 0.63569197 0.65266402\n",
      " 0.63780292 0.7267162  0.71388162 0.74191506 0.75002111 0.77222832\n",
      " 0.83049059 0.8194292  0.8289707  0.8125475  0.78776492 0.75162543\n",
      " 0.78426074 0.77974331 0.81326522 0.8141096  0.79473106 0.83336148\n",
      " 0.85898843 0.83901883 0.85628641 0.87486279 0.88782403 0.90095415\n",
      " 0.92793211 0.948535   0.93333615 0.91746179 0.92544119 0.91771511\n",
      " 0.9483239  0.94064004 0.96635143 0.9563033  0.96491598 0.90519065\n",
      " 0.90770453 0.90896839 0.90949798 0.90414256 0.90116638 0.89517379\n",
      " 0.901923   0.90513164 0.9081794  0.90526867 0.91074127 0.91611874\n",
      " 0.9199428  0.92824113 0.94251567 0.95733726]\n",
      "17 day output [[0.96689594]]\n",
      "18 day input [0.9598497  0.98792536 0.98594106 0.92531453 0.92172591 0.96474711\n",
      " 0.97572406 0.99159841 0.96972895 0.97614625 0.96795575 1.\n",
      " 0.99016297 0.99050072 0.96538039 0.98488559 0.97086887 0.94026007\n",
      " 0.87748037 0.83483915 0.85413324 0.77336823 0.77269273 0.88014017\n",
      " 0.84007431 0.89673225 0.85527316 0.83884995 0.74233725 0.82327113\n",
      " 0.78143207 0.6665963  0.7921557  0.64118044 0.68614371 0.66001013\n",
      " 0.65203074 0.58642236 0.56586169 0.66089673 0.65515494 0.70970193\n",
      " 0.66452757 0.69437642 0.69218104 0.63569197 0.65266402 0.63780292\n",
      " 0.7267162  0.71388162 0.74191506 0.75002111 0.77222832 0.83049059\n",
      " 0.8194292  0.8289707  0.8125475  0.78776492 0.75162543 0.78426074\n",
      " 0.77974331 0.81326522 0.8141096  0.79473106 0.83336148 0.85898843\n",
      " 0.83901883 0.85628641 0.87486279 0.88782403 0.90095415 0.92793211\n",
      " 0.948535   0.93333615 0.91746179 0.92544119 0.91771511 0.9483239\n",
      " 0.94064004 0.96635143 0.9563033  0.96491598 0.90519065 0.90770453\n",
      " 0.90896839 0.90949798 0.90414256 0.90116638 0.89517379 0.901923\n",
      " 0.90513164 0.9081794  0.90526867 0.91074127 0.91611874 0.9199428\n",
      " 0.92824113 0.94251567 0.95733726 0.96689594]\n",
      "18 day output [[0.9760434]]\n",
      "19 day input [0.98792536 0.98594106 0.92531453 0.92172591 0.96474711 0.97572406\n",
      " 0.99159841 0.96972895 0.97614625 0.96795575 1.         0.99016297\n",
      " 0.99050072 0.96538039 0.98488559 0.97086887 0.94026007 0.87748037\n",
      " 0.83483915 0.85413324 0.77336823 0.77269273 0.88014017 0.84007431\n",
      " 0.89673225 0.85527316 0.83884995 0.74233725 0.82327113 0.78143207\n",
      " 0.6665963  0.7921557  0.64118044 0.68614371 0.66001013 0.65203074\n",
      " 0.58642236 0.56586169 0.66089673 0.65515494 0.70970193 0.66452757\n",
      " 0.69437642 0.69218104 0.63569197 0.65266402 0.63780292 0.7267162\n",
      " 0.71388162 0.74191506 0.75002111 0.77222832 0.83049059 0.8194292\n",
      " 0.8289707  0.8125475  0.78776492 0.75162543 0.78426074 0.77974331\n",
      " 0.81326522 0.8141096  0.79473106 0.83336148 0.85898843 0.83901883\n",
      " 0.85628641 0.87486279 0.88782403 0.90095415 0.92793211 0.948535\n",
      " 0.93333615 0.91746179 0.92544119 0.91771511 0.9483239  0.94064004\n",
      " 0.96635143 0.9563033  0.96491598 0.90519065 0.90770453 0.90896839\n",
      " 0.90949798 0.90414256 0.90116638 0.89517379 0.901923   0.90513164\n",
      " 0.9081794  0.90526867 0.91074127 0.91611874 0.9199428  0.92824113\n",
      " 0.94251567 0.95733726 0.96689594 0.9760434 ]\n",
      "19 day output [[0.980567]]\n",
      "20 day input [0.98594106 0.92531453 0.92172591 0.96474711 0.97572406 0.99159841\n",
      " 0.96972895 0.97614625 0.96795575 1.         0.99016297 0.99050072\n",
      " 0.96538039 0.98488559 0.97086887 0.94026007 0.87748037 0.83483915\n",
      " 0.85413324 0.77336823 0.77269273 0.88014017 0.84007431 0.89673225\n",
      " 0.85527316 0.83884995 0.74233725 0.82327113 0.78143207 0.6665963\n",
      " 0.7921557  0.64118044 0.68614371 0.66001013 0.65203074 0.58642236\n",
      " 0.56586169 0.66089673 0.65515494 0.70970193 0.66452757 0.69437642\n",
      " 0.69218104 0.63569197 0.65266402 0.63780292 0.7267162  0.71388162\n",
      " 0.74191506 0.75002111 0.77222832 0.83049059 0.8194292  0.8289707\n",
      " 0.8125475  0.78776492 0.75162543 0.78426074 0.77974331 0.81326522\n",
      " 0.8141096  0.79473106 0.83336148 0.85898843 0.83901883 0.85628641\n",
      " 0.87486279 0.88782403 0.90095415 0.92793211 0.948535   0.93333615\n",
      " 0.91746179 0.92544119 0.91771511 0.9483239  0.94064004 0.96635143\n",
      " 0.9563033  0.96491598 0.90519065 0.90770453 0.90896839 0.90949798\n",
      " 0.90414256 0.90116638 0.89517379 0.901923   0.90513164 0.9081794\n",
      " 0.90526867 0.91074127 0.91611874 0.9199428  0.92824113 0.94251567\n",
      " 0.95733726 0.96689594 0.9760434  0.98056698]\n",
      "20 day output [[0.97982335]]\n",
      "21 day input [0.92531453 0.92172591 0.96474711 0.97572406 0.99159841 0.96972895\n",
      " 0.97614625 0.96795575 1.         0.99016297 0.99050072 0.96538039\n",
      " 0.98488559 0.97086887 0.94026007 0.87748037 0.83483915 0.85413324\n",
      " 0.77336823 0.77269273 0.88014017 0.84007431 0.89673225 0.85527316\n",
      " 0.83884995 0.74233725 0.82327113 0.78143207 0.6665963  0.7921557\n",
      " 0.64118044 0.68614371 0.66001013 0.65203074 0.58642236 0.56586169\n",
      " 0.66089673 0.65515494 0.70970193 0.66452757 0.69437642 0.69218104\n",
      " 0.63569197 0.65266402 0.63780292 0.7267162  0.71388162 0.74191506\n",
      " 0.75002111 0.77222832 0.83049059 0.8194292  0.8289707  0.8125475\n",
      " 0.78776492 0.75162543 0.78426074 0.77974331 0.81326522 0.8141096\n",
      " 0.79473106 0.83336148 0.85898843 0.83901883 0.85628641 0.87486279\n",
      " 0.88782403 0.90095415 0.92793211 0.948535   0.93333615 0.91746179\n",
      " 0.92544119 0.91771511 0.9483239  0.94064004 0.96635143 0.9563033\n",
      " 0.96491598 0.90519065 0.90770453 0.90896839 0.90949798 0.90414256\n",
      " 0.90116638 0.89517379 0.901923   0.90513164 0.9081794  0.90526867\n",
      " 0.91074127 0.91611874 0.9199428  0.92824113 0.94251567 0.95733726\n",
      " 0.96689594 0.9760434  0.98056698 0.97982335]\n",
      "21 day output [[0.9812232]]\n",
      "22 day input [0.92172591 0.96474711 0.97572406 0.99159841 0.96972895 0.97614625\n",
      " 0.96795575 1.         0.99016297 0.99050072 0.96538039 0.98488559\n",
      " 0.97086887 0.94026007 0.87748037 0.83483915 0.85413324 0.77336823\n",
      " 0.77269273 0.88014017 0.84007431 0.89673225 0.85527316 0.83884995\n",
      " 0.74233725 0.82327113 0.78143207 0.6665963  0.7921557  0.64118044\n",
      " 0.68614371 0.66001013 0.65203074 0.58642236 0.56586169 0.66089673\n",
      " 0.65515494 0.70970193 0.66452757 0.69437642 0.69218104 0.63569197\n",
      " 0.65266402 0.63780292 0.7267162  0.71388162 0.74191506 0.75002111\n",
      " 0.77222832 0.83049059 0.8194292  0.8289707  0.8125475  0.78776492\n",
      " 0.75162543 0.78426074 0.77974331 0.81326522 0.8141096  0.79473106\n",
      " 0.83336148 0.85898843 0.83901883 0.85628641 0.87486279 0.88782403\n",
      " 0.90095415 0.92793211 0.948535   0.93333615 0.91746179 0.92544119\n",
      " 0.91771511 0.9483239  0.94064004 0.96635143 0.9563033  0.96491598\n",
      " 0.90519065 0.90770453 0.90896839 0.90949798 0.90414256 0.90116638\n",
      " 0.89517379 0.901923   0.90513164 0.9081794  0.90526867 0.91074127\n",
      " 0.91611874 0.9199428  0.92824113 0.94251567 0.95733726 0.96689594\n",
      " 0.9760434  0.98056698 0.97982335 0.98122323]\n",
      "22 day output [[0.9783946]]\n",
      "23 day input [0.96474711 0.97572406 0.99159841 0.96972895 0.97614625 0.96795575\n",
      " 1.         0.99016297 0.99050072 0.96538039 0.98488559 0.97086887\n",
      " 0.94026007 0.87748037 0.83483915 0.85413324 0.77336823 0.77269273\n",
      " 0.88014017 0.84007431 0.89673225 0.85527316 0.83884995 0.74233725\n",
      " 0.82327113 0.78143207 0.6665963  0.7921557  0.64118044 0.68614371\n",
      " 0.66001013 0.65203074 0.58642236 0.56586169 0.66089673 0.65515494\n",
      " 0.70970193 0.66452757 0.69437642 0.69218104 0.63569197 0.65266402\n",
      " 0.63780292 0.7267162  0.71388162 0.74191506 0.75002111 0.77222832\n",
      " 0.83049059 0.8194292  0.8289707  0.8125475  0.78776492 0.75162543\n",
      " 0.78426074 0.77974331 0.81326522 0.8141096  0.79473106 0.83336148\n",
      " 0.85898843 0.83901883 0.85628641 0.87486279 0.88782403 0.90095415\n",
      " 0.92793211 0.948535   0.93333615 0.91746179 0.92544119 0.91771511\n",
      " 0.9483239  0.94064004 0.96635143 0.9563033  0.96491598 0.90519065\n",
      " 0.90770453 0.90896839 0.90949798 0.90414256 0.90116638 0.89517379\n",
      " 0.901923   0.90513164 0.9081794  0.90526867 0.91074127 0.91611874\n",
      " 0.9199428  0.92824113 0.94251567 0.95733726 0.96689594 0.9760434\n",
      " 0.98056698 0.97982335 0.98122323 0.97839463]\n",
      "23 day output [[0.9720309]]\n",
      "24 day input [0.97572406 0.99159841 0.96972895 0.97614625 0.96795575 1.\n",
      " 0.99016297 0.99050072 0.96538039 0.98488559 0.97086887 0.94026007\n",
      " 0.87748037 0.83483915 0.85413324 0.77336823 0.77269273 0.88014017\n",
      " 0.84007431 0.89673225 0.85527316 0.83884995 0.74233725 0.82327113\n",
      " 0.78143207 0.6665963  0.7921557  0.64118044 0.68614371 0.66001013\n",
      " 0.65203074 0.58642236 0.56586169 0.66089673 0.65515494 0.70970193\n",
      " 0.66452757 0.69437642 0.69218104 0.63569197 0.65266402 0.63780292\n",
      " 0.7267162  0.71388162 0.74191506 0.75002111 0.77222832 0.83049059\n",
      " 0.8194292  0.8289707  0.8125475  0.78776492 0.75162543 0.78426074\n",
      " 0.77974331 0.81326522 0.8141096  0.79473106 0.83336148 0.85898843\n",
      " 0.83901883 0.85628641 0.87486279 0.88782403 0.90095415 0.92793211\n",
      " 0.948535   0.93333615 0.91746179 0.92544119 0.91771511 0.9483239\n",
      " 0.94064004 0.96635143 0.9563033  0.96491598 0.90519065 0.90770453\n",
      " 0.90896839 0.90949798 0.90414256 0.90116638 0.89517379 0.901923\n",
      " 0.90513164 0.9081794  0.90526867 0.91074127 0.91611874 0.9199428\n",
      " 0.92824113 0.94251567 0.95733726 0.96689594 0.9760434  0.98056698\n",
      " 0.97982335 0.98122323 0.97839463 0.97203088]\n",
      "24 day output [[0.97033966]]\n",
      "25 day input [0.99159841 0.96972895 0.97614625 0.96795575 1.         0.99016297\n",
      " 0.99050072 0.96538039 0.98488559 0.97086887 0.94026007 0.87748037\n",
      " 0.83483915 0.85413324 0.77336823 0.77269273 0.88014017 0.84007431\n",
      " 0.89673225 0.85527316 0.83884995 0.74233725 0.82327113 0.78143207\n",
      " 0.6665963  0.7921557  0.64118044 0.68614371 0.66001013 0.65203074\n",
      " 0.58642236 0.56586169 0.66089673 0.65515494 0.70970193 0.66452757\n",
      " 0.69437642 0.69218104 0.63569197 0.65266402 0.63780292 0.7267162\n",
      " 0.71388162 0.74191506 0.75002111 0.77222832 0.83049059 0.8194292\n",
      " 0.8289707  0.8125475  0.78776492 0.75162543 0.78426074 0.77974331\n",
      " 0.81326522 0.8141096  0.79473106 0.83336148 0.85898843 0.83901883\n",
      " 0.85628641 0.87486279 0.88782403 0.90095415 0.92793211 0.948535\n",
      " 0.93333615 0.91746179 0.92544119 0.91771511 0.9483239  0.94064004\n",
      " 0.96635143 0.9563033  0.96491598 0.90519065 0.90770453 0.90896839\n",
      " 0.90949798 0.90414256 0.90116638 0.89517379 0.901923   0.90513164\n",
      " 0.9081794  0.90526867 0.91074127 0.91611874 0.9199428  0.92824113\n",
      " 0.94251567 0.95733726 0.96689594 0.9760434  0.98056698 0.97982335\n",
      " 0.98122323 0.97839463 0.97203088 0.97033966]\n",
      "25 day output [[0.9646398]]\n",
      "26 day input [0.96972895 0.97614625 0.96795575 1.         0.99016297 0.99050072\n",
      " 0.96538039 0.98488559 0.97086887 0.94026007 0.87748037 0.83483915\n",
      " 0.85413324 0.77336823 0.77269273 0.88014017 0.84007431 0.89673225\n",
      " 0.85527316 0.83884995 0.74233725 0.82327113 0.78143207 0.6665963\n",
      " 0.7921557  0.64118044 0.68614371 0.66001013 0.65203074 0.58642236\n",
      " 0.56586169 0.66089673 0.65515494 0.70970193 0.66452757 0.69437642\n",
      " 0.69218104 0.63569197 0.65266402 0.63780292 0.7267162  0.71388162\n",
      " 0.74191506 0.75002111 0.77222832 0.83049059 0.8194292  0.8289707\n",
      " 0.8125475  0.78776492 0.75162543 0.78426074 0.77974331 0.81326522\n",
      " 0.8141096  0.79473106 0.83336148 0.85898843 0.83901883 0.85628641\n",
      " 0.87486279 0.88782403 0.90095415 0.92793211 0.948535   0.93333615\n",
      " 0.91746179 0.92544119 0.91771511 0.9483239  0.94064004 0.96635143\n",
      " 0.9563033  0.96491598 0.90519065 0.90770453 0.90896839 0.90949798\n",
      " 0.90414256 0.90116638 0.89517379 0.901923   0.90513164 0.9081794\n",
      " 0.90526867 0.91074127 0.91611874 0.9199428  0.92824113 0.94251567\n",
      " 0.95733726 0.96689594 0.9760434  0.98056698 0.97982335 0.98122323\n",
      " 0.97839463 0.97203088 0.97033966 0.96463978]\n",
      "26 day output [[0.9625632]]\n",
      "27 day input [0.97614625 0.96795575 1.         0.99016297 0.99050072 0.96538039\n",
      " 0.98488559 0.97086887 0.94026007 0.87748037 0.83483915 0.85413324\n",
      " 0.77336823 0.77269273 0.88014017 0.84007431 0.89673225 0.85527316\n",
      " 0.83884995 0.74233725 0.82327113 0.78143207 0.6665963  0.7921557\n",
      " 0.64118044 0.68614371 0.66001013 0.65203074 0.58642236 0.56586169\n",
      " 0.66089673 0.65515494 0.70970193 0.66452757 0.69437642 0.69218104\n",
      " 0.63569197 0.65266402 0.63780292 0.7267162  0.71388162 0.74191506\n",
      " 0.75002111 0.77222832 0.83049059 0.8194292  0.8289707  0.8125475\n",
      " 0.78776492 0.75162543 0.78426074 0.77974331 0.81326522 0.8141096\n",
      " 0.79473106 0.83336148 0.85898843 0.83901883 0.85628641 0.87486279\n",
      " 0.88782403 0.90095415 0.92793211 0.948535   0.93333615 0.91746179\n",
      " 0.92544119 0.91771511 0.9483239  0.94064004 0.96635143 0.9563033\n",
      " 0.96491598 0.90519065 0.90770453 0.90896839 0.90949798 0.90414256\n",
      " 0.90116638 0.89517379 0.901923   0.90513164 0.9081794  0.90526867\n",
      " 0.91074127 0.91611874 0.9199428  0.92824113 0.94251567 0.95733726\n",
      " 0.96689594 0.9760434  0.98056698 0.97982335 0.98122323 0.97839463\n",
      " 0.97203088 0.97033966 0.96463978 0.96256322]\n",
      "27 day output [[0.9525972]]\n",
      "28 day input [0.96795575 1.         0.99016297 0.99050072 0.96538039 0.98488559\n",
      " 0.97086887 0.94026007 0.87748037 0.83483915 0.85413324 0.77336823\n",
      " 0.77269273 0.88014017 0.84007431 0.89673225 0.85527316 0.83884995\n",
      " 0.74233725 0.82327113 0.78143207 0.6665963  0.7921557  0.64118044\n",
      " 0.68614371 0.66001013 0.65203074 0.58642236 0.56586169 0.66089673\n",
      " 0.65515494 0.70970193 0.66452757 0.69437642 0.69218104 0.63569197\n",
      " 0.65266402 0.63780292 0.7267162  0.71388162 0.74191506 0.75002111\n",
      " 0.77222832 0.83049059 0.8194292  0.8289707  0.8125475  0.78776492\n",
      " 0.75162543 0.78426074 0.77974331 0.81326522 0.8141096  0.79473106\n",
      " 0.83336148 0.85898843 0.83901883 0.85628641 0.87486279 0.88782403\n",
      " 0.90095415 0.92793211 0.948535   0.93333615 0.91746179 0.92544119\n",
      " 0.91771511 0.9483239  0.94064004 0.96635143 0.9563033  0.96491598\n",
      " 0.90519065 0.90770453 0.90896839 0.90949798 0.90414256 0.90116638\n",
      " 0.89517379 0.901923   0.90513164 0.9081794  0.90526867 0.91074127\n",
      " 0.91611874 0.9199428  0.92824113 0.94251567 0.95733726 0.96689594\n",
      " 0.9760434  0.98056698 0.97982335 0.98122323 0.97839463 0.97203088\n",
      " 0.97033966 0.96463978 0.96256322 0.9525972 ]\n"
     ]
    },
    {
     "name": "stdout",
     "output_type": "stream",
     "text": [
      "28 day output [[0.9493501]]\n",
      "29 day input [1.         0.99016297 0.99050072 0.96538039 0.98488559 0.97086887\n",
      " 0.94026007 0.87748037 0.83483915 0.85413324 0.77336823 0.77269273\n",
      " 0.88014017 0.84007431 0.89673225 0.85527316 0.83884995 0.74233725\n",
      " 0.82327113 0.78143207 0.6665963  0.7921557  0.64118044 0.68614371\n",
      " 0.66001013 0.65203074 0.58642236 0.56586169 0.66089673 0.65515494\n",
      " 0.70970193 0.66452757 0.69437642 0.69218104 0.63569197 0.65266402\n",
      " 0.63780292 0.7267162  0.71388162 0.74191506 0.75002111 0.77222832\n",
      " 0.83049059 0.8194292  0.8289707  0.8125475  0.78776492 0.75162543\n",
      " 0.78426074 0.77974331 0.81326522 0.8141096  0.79473106 0.83336148\n",
      " 0.85898843 0.83901883 0.85628641 0.87486279 0.88782403 0.90095415\n",
      " 0.92793211 0.948535   0.93333615 0.91746179 0.92544119 0.91771511\n",
      " 0.9483239  0.94064004 0.96635143 0.9563033  0.96491598 0.90519065\n",
      " 0.90770453 0.90896839 0.90949798 0.90414256 0.90116638 0.89517379\n",
      " 0.901923   0.90513164 0.9081794  0.90526867 0.91074127 0.91611874\n",
      " 0.9199428  0.92824113 0.94251567 0.95733726 0.96689594 0.9760434\n",
      " 0.98056698 0.97982335 0.98122323 0.97839463 0.97203088 0.97033966\n",
      " 0.96463978 0.96256322 0.9525972  0.94935012]\n",
      "29 day output [[0.9408165]]\n",
      "[[0.905190646648407], [0.9077045321464539], [0.9089683890342712], [0.9094979763031006], [0.9041425585746765], [0.9011663794517517], [0.8951737880706787], [0.9019230008125305], [0.9051316380500793], [0.9081794023513794], [0.905268669128418], [0.9107412695884705], [0.9161187410354614], [0.9199427962303162], [0.9282411336898804], [0.9425156712532043], [0.9573372602462769], [0.9668959379196167], [0.9760434031486511], [0.9805669784545898], [0.9798233509063721], [0.9812232255935669], [0.978394627571106], [0.9720308780670166], [0.9703396558761597], [0.9646397829055786], [0.9625632166862488], [0.9525972008705139], [0.949350118637085], [0.9408165216445923]]\n"
     ]
    }
   ],
   "source": [
    "from numpy import array\n",
    "\n",
    "lst_output=[]\n",
    "n_steps=100\n",
    "i=0\n",
    "while(i<30):\n",
    "    \n",
    "    if(len(temp_input)>100):\n",
    "        x_input=np.array(temp_input[1:])\n",
    "        print(\"{} day input {}\".format(i,x_input))\n",
    "        x_input=x_input.reshape(1,-1)\n",
    "        x_input = x_input.reshape((1, n_steps, 1))\n",
    "        yhat = model.predict(x_input, verbose=0)\n",
    "        print(\"{} day output {}\".format(i,yhat))\n",
    "        temp_input.extend(yhat[0].tolist())\n",
    "        temp_input=temp_input[1:]\n",
    "        lst_output.extend(yhat.tolist())\n",
    "        i=i+1\n",
    "    else:\n",
    "        x_input = x_input.reshape((1, n_steps,1))\n",
    "        yhat = model.predict(x_input, verbose=0)\n",
    "        print(yhat[0])\n",
    "        temp_input.extend(yhat[0].tolist())\n",
    "        print(len(temp_input))\n",
    "        lst_output.extend(yhat.tolist())\n",
    "        i=i+1\n",
    "    \n",
    "\n",
    "print(lst_output)"
   ]
  },
  {
   "cell_type": "markdown",
   "metadata": {},
   "source": [
    "# From testdata previous 100 days is taken so the day_new range is given between 1 to 101 \n",
    "# 30 days future need to be predicted so day_pred range is given between 101 to 131"
   ]
  },
  {
   "cell_type": "code",
   "execution_count": 56,
   "metadata": {},
   "outputs": [],
   "source": [
    "day_new=np.arange(1,101)\n",
    "day_pred=np.arange(101,131)"
   ]
  },
  {
   "cell_type": "code",
   "execution_count": 57,
   "metadata": {},
   "outputs": [
    {
     "data": {
      "text/plain": [
       "1258"
      ]
     },
     "execution_count": 57,
     "metadata": {},
     "output_type": "execute_result"
    }
   ],
   "source": [
    "import matplotlib.pyplot as plt\n",
    "len(df1)"
   ]
  },
  {
   "cell_type": "markdown",
   "metadata": {},
   "source": [
    "# Previous 100 data is needed for future prediction\n",
    "# Length of df1 is 1258\n",
    "# 1258-100=1158\n",
    "# STEP1-Displaying data between 1158 to 1258 as real data\n",
    "# STEP2-scaler.inverse_transform(lst_output) is the predicted data\n",
    "# Orange line shows new 30 days output"
   ]
  },
  {
   "cell_type": "code",
   "execution_count": 58,
   "metadata": {},
   "outputs": [
    {
     "data": {
      "text/plain": [
       "[<matplotlib.lines.Line2D at 0x25b64f86700>]"
      ]
     },
     "execution_count": 58,
     "metadata": {},
     "output_type": "execute_result"
    },
    {
     "data": {
      "image/png": "[encoded data removed]",
      "text/plain": [
       "<Figure size 432x288 with 1 Axes>"
      ]
     },
     "metadata": {
      "needs_background": "light"
     },
     "output_type": "display_data"
    }
   ],
   "source": [
    "plt.plot(day_new,scaler.inverse_transform(df1[1158:]))\n",
    "plt.plot(day_pred,scaler.inverse_transform(lst_output))"
   ]
  },
  {
   "cell_type": "markdown",
   "metadata": {},
   "source": [
    "# Combining lst_output and df3"
   ]
  },
  {
   "cell_type": "code",
   "execution_count": 59,
   "metadata": {},
   "outputs": [
    {
     "data": {
      "text/plain": [
       "[<matplotlib.lines.Line2D at 0x25b64efc340>]"
      ]
     },
     "execution_count": 59,
     "metadata": {},
     "output_type": "execute_result"
    },
    {
     "data": {
      "image/png": "[encoded data removed]",
      "text/plain": [
       "<Figure size 432x288 with 1 Axes>"
      ]
     },
     "metadata": {
      "needs_background": "light"
     },
     "output_type": "display_data"
    }
   ],
   "source": [
    "df3=df1.tolist()\n",
    "df3.extend(lst_output)\n",
    "plt.plot(df3[1200:])"
   ]
  },
  {
   "cell_type": "markdown",
   "metadata": {},
   "source": [
    "# Transforming back to original form and then into the form of a list"
   ]
  },
  {
   "cell_type": "code",
   "execution_count": 60,
   "metadata": {},
   "outputs": [
    {
     "data": {
      "text/plain": [
       "[<matplotlib.lines.Line2D at 0x25b65106670>]"
      ]
     },
     "execution_count": 60,
     "metadata": {},
     "output_type": "execute_result"
    },
    {
     "data": {
      "image/png": "[encoded data removed]",
      "text/plain": [
       "<Figure size 432x288 with 1 Axes>"
      ]
     },
     "metadata": {
      "needs_background": "light"
     },
     "output_type": "display_data"
    }
   ],
   "source": [
    "df3=scaler.inverse_transform(df3).tolist()\n",
    "plt.plot(df3)"
   ]
  },
  {
   "cell_type": "code",
   "execution_count": null,
   "metadata": {},
   "outputs": [],
   "source": []
  },
  {
   "cell_type": "code",
   "execution_count": null,
   "metadata": {},
   "outputs": [],
   "source": []
  },
  {
   "cell_type": "code",
   "execution_count": null,
   "metadata": {},
   "outputs": [],
   "source": []
  }
 ],
 "metadata": {
  "kernelspec": {
   "display_name": "Python 3",
   "language": "python",
   "name": "python3"
  },
  "language_info": {
   "codemirror_mode": {
    "name": "ipython",
    "version": 3
   },
   "file_extension": ".py",
   "mimetype": "text/x-python",
   "name": "python",
   "nbconvert_exporter": "python",
   "pygments_lexer": "ipython3",
   "version": "3.8.5"
  }
 },
 "nbformat": 4,
 "nbformat_minor": 5
}
